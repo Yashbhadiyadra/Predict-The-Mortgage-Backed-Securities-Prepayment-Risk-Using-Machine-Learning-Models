{
 "cells": [
  {
   "cell_type": "code",
   "execution_count": 2,
   "id": "db54ae6b",
   "metadata": {},
   "outputs": [],
   "source": [
    "import pandas as pd\n",
    "import numpy as np\n",
    "import seaborn as sns\n",
    "import matplotlib.pyplot as plt"
   ]
  },
  {
   "cell_type": "code",
   "execution_count": 3,
   "id": "59d653cc",
   "metadata": {},
   "outputs": [],
   "source": [
    "# Load the dataset\n",
    "df = pd.read_csv(\"Modified.csv\")"
   ]
  },
  {
   "cell_type": "code",
   "execution_count": 4,
   "id": "0a745ef8",
   "metadata": {},
   "outputs": [
    {
     "data": {
      "text/html": [
       "<div>\n",
       "<style scoped>\n",
       "    .dataframe tbody tr th:only-of-type {\n",
       "        vertical-align: middle;\n",
       "    }\n",
       "\n",
       "    .dataframe tbody tr th {\n",
       "        vertical-align: top;\n",
       "    }\n",
       "\n",
       "    .dataframe thead th {\n",
       "        text-align: right;\n",
       "    }\n",
       "</style>\n",
       "<table border=\"1\" class=\"dataframe\">\n",
       "  <thead>\n",
       "    <tr style=\"text-align: right;\">\n",
       "      <th></th>\n",
       "      <th>CreditRange</th>\n",
       "      <th>LTVRange</th>\n",
       "      <th>DTI_Range</th>\n",
       "      <th>MIP_Range</th>\n",
       "      <th>RepayRange</th>\n",
       "      <th>Units</th>\n",
       "      <th>OrigUPB</th>\n",
       "      <th>OrigInterestRate</th>\n",
       "      <th>LoanTermYears</th>\n",
       "      <th>OCLTV</th>\n",
       "      <th>PPM</th>\n",
       "      <th>IsFirstTime</th>\n",
       "      <th>EverDelinquent</th>\n",
       "      <th>MonthsDelinquent</th>\n",
       "    </tr>\n",
       "  </thead>\n",
       "  <tbody>\n",
       "    <tr>\n",
       "      <th>0</th>\n",
       "      <td>0</td>\n",
       "      <td>0</td>\n",
       "      <td>2</td>\n",
       "      <td>2</td>\n",
       "      <td>2</td>\n",
       "      <td>1</td>\n",
       "      <td>117000</td>\n",
       "      <td>6.750</td>\n",
       "      <td>30</td>\n",
       "      <td>89</td>\n",
       "      <td>0</td>\n",
       "      <td>0</td>\n",
       "      <td>0</td>\n",
       "      <td>0</td>\n",
       "    </tr>\n",
       "    <tr>\n",
       "      <th>1</th>\n",
       "      <td>0</td>\n",
       "      <td>2</td>\n",
       "      <td>1</td>\n",
       "      <td>1</td>\n",
       "      <td>4</td>\n",
       "      <td>1</td>\n",
       "      <td>109000</td>\n",
       "      <td>6.500</td>\n",
       "      <td>30</td>\n",
       "      <td>73</td>\n",
       "      <td>0</td>\n",
       "      <td>0</td>\n",
       "      <td>0</td>\n",
       "      <td>0</td>\n",
       "    </tr>\n",
       "    <tr>\n",
       "      <th>2</th>\n",
       "      <td>0</td>\n",
       "      <td>0</td>\n",
       "      <td>1</td>\n",
       "      <td>1</td>\n",
       "      <td>2</td>\n",
       "      <td>1</td>\n",
       "      <td>88000</td>\n",
       "      <td>6.875</td>\n",
       "      <td>30</td>\n",
       "      <td>75</td>\n",
       "      <td>0</td>\n",
       "      <td>0</td>\n",
       "      <td>0</td>\n",
       "      <td>0</td>\n",
       "    </tr>\n",
       "    <tr>\n",
       "      <th>3</th>\n",
       "      <td>0</td>\n",
       "      <td>0</td>\n",
       "      <td>1</td>\n",
       "      <td>1</td>\n",
       "      <td>1</td>\n",
       "      <td>1</td>\n",
       "      <td>160000</td>\n",
       "      <td>6.875</td>\n",
       "      <td>30</td>\n",
       "      <td>76</td>\n",
       "      <td>0</td>\n",
       "      <td>0</td>\n",
       "      <td>0</td>\n",
       "      <td>0</td>\n",
       "    </tr>\n",
       "    <tr>\n",
       "      <th>4</th>\n",
       "      <td>0</td>\n",
       "      <td>0</td>\n",
       "      <td>1</td>\n",
       "      <td>1</td>\n",
       "      <td>2</td>\n",
       "      <td>1</td>\n",
       "      <td>109000</td>\n",
       "      <td>7.125</td>\n",
       "      <td>30</td>\n",
       "      <td>78</td>\n",
       "      <td>0</td>\n",
       "      <td>0</td>\n",
       "      <td>0</td>\n",
       "      <td>0</td>\n",
       "    </tr>\n",
       "  </tbody>\n",
       "</table>\n",
       "</div>"
      ],
      "text/plain": [
       "   CreditRange  LTVRange  DTI_Range  MIP_Range  RepayRange  Units  OrigUPB  \\\n",
       "0            0         0          2          2           2      1   117000   \n",
       "1            0         2          1          1           4      1   109000   \n",
       "2            0         0          1          1           2      1    88000   \n",
       "3            0         0          1          1           1      1   160000   \n",
       "4            0         0          1          1           2      1   109000   \n",
       "\n",
       "   OrigInterestRate  LoanTermYears  OCLTV  PPM  IsFirstTime  EverDelinquent  \\\n",
       "0             6.750             30     89    0            0               0   \n",
       "1             6.500             30     73    0            0               0   \n",
       "2             6.875             30     75    0            0               0   \n",
       "3             6.875             30     76    0            0               0   \n",
       "4             7.125             30     78    0            0               0   \n",
       "\n",
       "   MonthsDelinquent  \n",
       "0                 0  \n",
       "1                 0  \n",
       "2                 0  \n",
       "3                 0  \n",
       "4                 0  "
      ]
     },
     "execution_count": 4,
     "metadata": {},
     "output_type": "execute_result"
    }
   ],
   "source": [
    "df.head()"
   ]
  },
  {
   "cell_type": "code",
   "execution_count": 5,
   "id": "8e1d8093",
   "metadata": {},
   "outputs": [],
   "source": [
    "#drop target variable from features list\n",
    "X = df.drop('EverDelinquent', axis=1)\n",
    "\n",
    "#target variable\n",
    "y = df['EverDelinquent']"
   ]
  },
  {
   "cell_type": "code",
   "execution_count": 6,
   "id": "ef0f257d",
   "metadata": {},
   "outputs": [],
   "source": [
    "# Train-Test split\n",
    "from sklearn.model_selection import train_test_split\n",
    "X_train, X_test, y_train, y_test = train_test_split(X, y, test_size=0.2, random_state=42)"
   ]
  },
  {
   "cell_type": "code",
   "execution_count": 7,
   "id": "0343914a",
   "metadata": {},
   "outputs": [],
   "source": [
    "from sklearn.linear_model import LogisticRegression\n",
    "logreg = LogisticRegression()\n",
    "logreg.fit(X_train,y_train)\n",
    "y_pred = logreg.predict(X_test)"
   ]
  },
  {
   "cell_type": "code",
   "execution_count": 8,
   "id": "2551c9e0",
   "metadata": {},
   "outputs": [
    {
     "name": "stdout",
     "output_type": "stream",
     "text": [
      "Accuracy : 0.9400259403372244\n",
      "[[31061     4]\n",
      " [ 2308  5177]]\n",
      "\n",
      "              precision    recall  f1-score   support\n",
      "\n",
      "           0       0.93      1.00      0.96     31065\n",
      "           1       1.00      0.69      0.82      7485\n",
      "\n",
      "    accuracy                           0.94     38550\n",
      "   macro avg       0.97      0.85      0.89     38550\n",
      "weighted avg       0.94      0.94      0.94     38550\n",
      "\n"
     ]
    }
   ],
   "source": [
    "from sklearn.metrics import accuracy_score, confusion_matrix, classification_report\n",
    "ac = accuracy_score (y_test, y_pred)\n",
    "cm = confusion_matrix (y_test, y_pred)\n",
    "cr = classification_report (y_test, y_pred)\n",
    "\n",
    "print(f\"Accuracy : {ac}\\n{cm}\\n\\n{cr}\")"
   ]
  },
  {
   "cell_type": "code",
   "execution_count": 9,
   "id": "d7ea6dc8",
   "metadata": {},
   "outputs": [
    {
     "name": "stdout",
     "output_type": "stream",
     "text": [
      "Training Score : 0.9400186772850491\n",
      "Testing Score : 0.9400259403372244\n"
     ]
    }
   ],
   "source": [
    "train = logreg.score (X_train, y_train)\n",
    "test = logreg.score (X_test, y_test)\n",
    "\n",
    "print(f\"Training Score : {train}\\nTesting Score : {test}\")"
   ]
  }
 ],
 "metadata": {
  "kernelspec": {
   "display_name": "Python 3 (ipykernel)",
   "language": "python",
   "name": "python3"
  },
  "language_info": {
   "codemirror_mode": {
    "name": "ipython",
    "version": 3
   },
   "file_extension": ".py",
   "mimetype": "text/x-python",
   "name": "python",
   "nbconvert_exporter": "python",
   "pygments_lexer": "ipython3",
   "version": "3.7.11"
  }
 },
 "nbformat": 4,
 "nbformat_minor": 5
}
