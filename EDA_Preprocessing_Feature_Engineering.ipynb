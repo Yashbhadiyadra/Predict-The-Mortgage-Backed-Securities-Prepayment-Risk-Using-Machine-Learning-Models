{
 "cells": [
  {
   "cell_type": "code",
   "execution_count": 2,
   "id": "75a5cbee",
   "metadata": {},
   "outputs": [],
   "source": [
    "import pandas as pd\n",
    "import numpy as np\n",
    "import seaborn as sns\n",
    "import matplotlib.pyplot as plt"
   ]
  },
  {
   "cell_type": "code",
   "execution_count": 4,
   "id": "f75c6baa",
   "metadata": {},
   "outputs": [],
   "source": [
    "# Load the dataset\n",
    "df = pd.read_csv(\"LoanExport.csv\")"
   ]
  },
  {
   "cell_type": "code",
   "execution_count": 5,
   "id": "03ddd9fd",
   "metadata": {
    "scrolled": true
   },
   "outputs": [
    {
     "data": {
      "text/html": [
       "<div>\n",
       "<style scoped>\n",
       "    .dataframe tbody tr th:only-of-type {\n",
       "        vertical-align: middle;\n",
       "    }\n",
       "\n",
       "    .dataframe tbody tr th {\n",
       "        vertical-align: top;\n",
       "    }\n",
       "\n",
       "    .dataframe thead th {\n",
       "        text-align: right;\n",
       "    }\n",
       "</style>\n",
       "<table border=\"1\" class=\"dataframe\">\n",
       "  <thead>\n",
       "    <tr style=\"text-align: right;\">\n",
       "      <th></th>\n",
       "      <th>CreditScore</th>\n",
       "      <th>FirstPaymentDate</th>\n",
       "      <th>FirstTimeHomebuyer</th>\n",
       "      <th>MaturityDate</th>\n",
       "      <th>MSA</th>\n",
       "      <th>MIP</th>\n",
       "      <th>Units</th>\n",
       "      <th>Occupancy</th>\n",
       "      <th>OCLTV</th>\n",
       "      <th>DTI</th>\n",
       "      <th>...</th>\n",
       "      <th>PostalCode</th>\n",
       "      <th>LoanSeqNum</th>\n",
       "      <th>LoanPurpose</th>\n",
       "      <th>OrigLoanTerm</th>\n",
       "      <th>NumBorrowers</th>\n",
       "      <th>SellerName</th>\n",
       "      <th>ServicerName</th>\n",
       "      <th>EverDelinquent</th>\n",
       "      <th>MonthsDelinquent</th>\n",
       "      <th>MonthsInRepayment</th>\n",
       "    </tr>\n",
       "  </thead>\n",
       "  <tbody>\n",
       "    <tr>\n",
       "      <th>0</th>\n",
       "      <td>0</td>\n",
       "      <td>199902</td>\n",
       "      <td>N</td>\n",
       "      <td>202901</td>\n",
       "      <td>16974</td>\n",
       "      <td>25</td>\n",
       "      <td>1</td>\n",
       "      <td>O</td>\n",
       "      <td>89</td>\n",
       "      <td>27</td>\n",
       "      <td>...</td>\n",
       "      <td>60400</td>\n",
       "      <td>F199Q1268030</td>\n",
       "      <td>P</td>\n",
       "      <td>360</td>\n",
       "      <td>2</td>\n",
       "      <td>FL</td>\n",
       "      <td>WASHINGTONMUTUALBANK</td>\n",
       "      <td>0</td>\n",
       "      <td>0</td>\n",
       "      <td>52</td>\n",
       "    </tr>\n",
       "    <tr>\n",
       "      <th>1</th>\n",
       "      <td>0</td>\n",
       "      <td>199902</td>\n",
       "      <td>N</td>\n",
       "      <td>202901</td>\n",
       "      <td>19740</td>\n",
       "      <td>0</td>\n",
       "      <td>1</td>\n",
       "      <td>O</td>\n",
       "      <td>73</td>\n",
       "      <td>17</td>\n",
       "      <td>...</td>\n",
       "      <td>80200</td>\n",
       "      <td>F199Q1015092</td>\n",
       "      <td>N</td>\n",
       "      <td>360</td>\n",
       "      <td>1</td>\n",
       "      <td>FT</td>\n",
       "      <td>CHASEHOMEFINANCELLC</td>\n",
       "      <td>0</td>\n",
       "      <td>0</td>\n",
       "      <td>144</td>\n",
       "    </tr>\n",
       "    <tr>\n",
       "      <th>2</th>\n",
       "      <td>0</td>\n",
       "      <td>199902</td>\n",
       "      <td>N</td>\n",
       "      <td>202901</td>\n",
       "      <td>29940</td>\n",
       "      <td>0</td>\n",
       "      <td>1</td>\n",
       "      <td>O</td>\n",
       "      <td>75</td>\n",
       "      <td>16</td>\n",
       "      <td>...</td>\n",
       "      <td>66000</td>\n",
       "      <td>F199Q1266886</td>\n",
       "      <td>N</td>\n",
       "      <td>360</td>\n",
       "      <td>2</td>\n",
       "      <td>FL</td>\n",
       "      <td>WASHINGTONMUTUALBANK</td>\n",
       "      <td>0</td>\n",
       "      <td>0</td>\n",
       "      <td>67</td>\n",
       "    </tr>\n",
       "    <tr>\n",
       "      <th>3</th>\n",
       "      <td>0</td>\n",
       "      <td>199902</td>\n",
       "      <td>N</td>\n",
       "      <td>202901</td>\n",
       "      <td>31084</td>\n",
       "      <td>0</td>\n",
       "      <td>1</td>\n",
       "      <td>O</td>\n",
       "      <td>76</td>\n",
       "      <td>14</td>\n",
       "      <td>...</td>\n",
       "      <td>90700</td>\n",
       "      <td>F199Q1178167</td>\n",
       "      <td>N</td>\n",
       "      <td>360</td>\n",
       "      <td>2</td>\n",
       "      <td>GM</td>\n",
       "      <td>GMACMTGECORP</td>\n",
       "      <td>0</td>\n",
       "      <td>0</td>\n",
       "      <td>35</td>\n",
       "    </tr>\n",
       "    <tr>\n",
       "      <th>4</th>\n",
       "      <td>0</td>\n",
       "      <td>199902</td>\n",
       "      <td>N</td>\n",
       "      <td>202901</td>\n",
       "      <td>35644</td>\n",
       "      <td>0</td>\n",
       "      <td>1</td>\n",
       "      <td>O</td>\n",
       "      <td>78</td>\n",
       "      <td>18</td>\n",
       "      <td>...</td>\n",
       "      <td>7600</td>\n",
       "      <td>F199Q1178517</td>\n",
       "      <td>N</td>\n",
       "      <td>360</td>\n",
       "      <td>2</td>\n",
       "      <td>GM</td>\n",
       "      <td>GMACMTGECORP</td>\n",
       "      <td>0</td>\n",
       "      <td>0</td>\n",
       "      <td>54</td>\n",
       "    </tr>\n",
       "  </tbody>\n",
       "</table>\n",
       "<p>5 rows × 28 columns</p>\n",
       "</div>"
      ],
      "text/plain": [
       "   CreditScore  FirstPaymentDate FirstTimeHomebuyer  MaturityDate    MSA  MIP  \\\n",
       "0            0            199902                  N        202901  16974   25   \n",
       "1            0            199902                  N        202901  19740    0   \n",
       "2            0            199902                  N        202901  29940    0   \n",
       "3            0            199902                  N        202901  31084    0   \n",
       "4            0            199902                  N        202901  35644    0   \n",
       "\n",
       "   Units Occupancy  OCLTV  DTI  ...  PostalCode    LoanSeqNum  LoanPurpose  \\\n",
       "0      1         O     89   27  ...       60400  F199Q1268030            P   \n",
       "1      1         O     73   17  ...       80200  F199Q1015092            N   \n",
       "2      1         O     75   16  ...       66000  F199Q1266886            N   \n",
       "3      1         O     76   14  ...       90700  F199Q1178167            N   \n",
       "4      1         O     78   18  ...        7600  F199Q1178517            N   \n",
       "\n",
       "  OrigLoanTerm NumBorrowers SellerName          ServicerName EverDelinquent  \\\n",
       "0          360            2         FL  WASHINGTONMUTUALBANK              0   \n",
       "1          360            1         FT  CHASEHOMEFINANCELLC               0   \n",
       "2          360            2         FL  WASHINGTONMUTUALBANK              0   \n",
       "3          360            2         GM  GMACMTGECORP                      0   \n",
       "4          360            2         GM  GMACMTGECORP                      0   \n",
       "\n",
       "  MonthsDelinquent MonthsInRepayment  \n",
       "0                0                52  \n",
       "1                0               144  \n",
       "2                0                67  \n",
       "3                0                35  \n",
       "4                0                54  \n",
       "\n",
       "[5 rows x 28 columns]"
      ]
     },
     "execution_count": 5,
     "metadata": {},
     "output_type": "execute_result"
    }
   ],
   "source": [
    "df.head()"
   ]
  },
  {
   "cell_type": "code",
   "execution_count": 6,
   "id": "8f3bd864",
   "metadata": {},
   "outputs": [
    {
     "data": {
      "text/plain": [
       "(291451, 28)"
      ]
     },
     "execution_count": 6,
     "metadata": {},
     "output_type": "execute_result"
    }
   ],
   "source": [
    "df.shape"
   ]
  },
  {
   "cell_type": "code",
   "execution_count": 7,
   "id": "34c6585b",
   "metadata": {},
   "outputs": [
    {
     "name": "stdout",
     "output_type": "stream",
     "text": [
      "Number of Null values in each column:\n",
      "CreditScore               0\n",
      "FirstPaymentDate          0\n",
      "FirstTimeHomebuyer        0\n",
      "MaturityDate              0\n",
      "MSA                       0\n",
      "MIP                       0\n",
      "Units                     0\n",
      "Occupancy                 0\n",
      "OCLTV                     0\n",
      "DTI                       0\n",
      "OrigUPB                   0\n",
      "LTV                       0\n",
      "OrigInterestRate          0\n",
      "Channel                   0\n",
      "PPM                       0\n",
      "ProductType               0\n",
      "PropertyState             0\n",
      "PropertyType              0\n",
      "PostalCode                0\n",
      "LoanSeqNum                0\n",
      "LoanPurpose               0\n",
      "OrigLoanTerm              0\n",
      "NumBorrowers              0\n",
      "SellerName            24994\n",
      "ServicerName              0\n",
      "EverDelinquent            0\n",
      "MonthsDelinquent          0\n",
      "MonthsInRepayment         0\n",
      "dtype: int64\n"
     ]
    }
   ],
   "source": [
    "# Check for Null Values and remove them\n",
    "print(\"Number of Null values in each column:\")\n",
    "print(df.isnull().sum())"
   ]
  },
  {
   "cell_type": "code",
   "execution_count": 8,
   "id": "8872bca7",
   "metadata": {},
   "outputs": [],
   "source": [
    "df = df.dropna()"
   ]
  },
  {
   "cell_type": "code",
   "execution_count": 9,
   "id": "770b4e7d",
   "metadata": {},
   "outputs": [
    {
     "data": {
      "image/png": "[encoded data removed]",
      "text/plain": [
       "<Figure size 1440x720 with 2 Axes>"
      ]
     },
     "metadata": {
      "needs_background": "light"
     },
     "output_type": "display_data"
    }
   ],
   "source": [
    "# Check Correlation between all features using heat map\n",
    "plt.figure(figsize=(20,10))\n",
    "sns.heatmap(df.corr(), annot =True)\n",
    "plt.show()"
   ]
  },
  {
   "cell_type": "code",
   "execution_count": 10,
   "id": "571397ef",
   "metadata": {},
   "outputs": [],
   "source": [
    "# Remove unnecessary columns\n",
    "df = df.drop([\"FirstPaymentDate\",\"MaturityDate\",\"MSA\",\"Occupancy\",\"ProductType\",\"SellerName\",\"ServicerName\",\"PropertyState\",\"NumBorrowers\",\"Channel\"], axis=1)"
   ]
  },
  {
   "cell_type": "code",
   "execution_count": 11,
   "id": "e31b38a9",
   "metadata": {},
   "outputs": [
    {
     "name": "stdout",
     "output_type": "stream",
     "text": [
      "Numerical Features: 12\n"
     ]
    },
    {
     "data": {
      "text/plain": [
       "['CreditScore',\n",
       " 'MIP',\n",
       " 'Units',\n",
       " 'OCLTV',\n",
       " 'DTI',\n",
       " 'OrigUPB',\n",
       " 'LTV',\n",
       " 'OrigInterestRate',\n",
       " 'OrigLoanTerm',\n",
       " 'EverDelinquent',\n",
       " 'MonthsDelinquent',\n",
       " 'MonthsInRepayment']"
      ]
     },
     "execution_count": 11,
     "metadata": {},
     "output_type": "execute_result"
    }
   ],
   "source": [
    "# List Numerical Features\n",
    "numerical_features = df.select_dtypes(include=[np.number]).columns.tolist()\n",
    "print(\"Numerical Features:\", len(numerical_features))\n",
    "numerical_features"
   ]
  },
  {
   "cell_type": "code",
   "execution_count": 12,
   "id": "3cb4667c",
   "metadata": {},
   "outputs": [
    {
     "name": "stdout",
     "output_type": "stream",
     "text": [
      "Categorical Features: 6\n"
     ]
    },
    {
     "name": "stderr",
     "output_type": "stream",
     "text": [
      "C:\\Users\\ACER\\anaconda3\\lib\\site-packages\\ipykernel_launcher.py:2: DeprecationWarning: `np.object` is a deprecated alias for the builtin `object`. To silence this warning, use `object` by itself. Doing this will not modify any behavior and is safe. \n",
      "Deprecated in NumPy 1.20; for more details and guidance: https://numpy.org/devdocs/release/1.20.0-notes.html#deprecations\n",
      "  \n"
     ]
    },
    {
     "data": {
      "text/plain": [
       "['FirstTimeHomebuyer',\n",
       " 'PPM',\n",
       " 'PropertyType',\n",
       " 'PostalCode',\n",
       " 'LoanSeqNum',\n",
       " 'LoanPurpose']"
      ]
     },
     "execution_count": 12,
     "metadata": {},
     "output_type": "execute_result"
    }
   ],
   "source": [
    "# List Categorical Features\n",
    "categorical_features = df.select_dtypes(include=[np.object]).columns.tolist()\n",
    "print(\"Categorical Features:\", len(categorical_features))\n",
    "categorical_features"
   ]
  },
  {
   "cell_type": "code",
   "execution_count": 13,
   "id": "baf33aa1",
   "metadata": {},
   "outputs": [
    {
     "name": "stdout",
     "output_type": "stream",
     "text": [
      "Continuous Features: 10\n"
     ]
    },
    {
     "data": {
      "text/plain": [
       "['CreditScore',\n",
       " 'MIP',\n",
       " 'OCLTV',\n",
       " 'DTI',\n",
       " 'OrigUPB',\n",
       " 'LTV',\n",
       " 'OrigInterestRate',\n",
       " 'OrigLoanTerm',\n",
       " 'MonthsDelinquent',\n",
       " 'MonthsInRepayment']"
      ]
     },
     "execution_count": 13,
     "metadata": {},
     "output_type": "execute_result"
    }
   ],
   "source": [
    "# List Continuous Features\n",
    "continuous_features = [feat for feat in numerical_features if len(df[feat].unique()) > 10]\n",
    "print(\"Continuous Features:\", len(continuous_features))\n",
    "continuous_features"
   ]
  },
  {
   "cell_type": "code",
   "execution_count": 14,
   "id": "efe1bbc1",
   "metadata": {},
   "outputs": [
    {
     "name": "stdout",
     "output_type": "stream",
     "text": [
      "Discrete Features: 2\n"
     ]
    },
    {
     "data": {
      "text/plain": [
       "['Units', 'EverDelinquent']"
      ]
     },
     "execution_count": 14,
     "metadata": {},
     "output_type": "execute_result"
    }
   ],
   "source": [
    "# List Discrete Features\n",
    "discrete_features = [feat for feat in numerical_features if len(df[feat].unique()) <= 10]\n",
    "print(\"Discrete Features:\", len(discrete_features))\n",
    "discrete_features"
   ]
  },
  {
   "cell_type": "code",
   "execution_count": 15,
   "id": "df7328a4",
   "metadata": {},
   "outputs": [
    {
     "name": "stderr",
     "output_type": "stream",
     "text": [
      "C:\\Users\\ACER\\anaconda3\\lib\\site-packages\\seaborn\\distributions.py:2557: FutureWarning: `distplot` is a deprecated function and will be removed in a future version. Please adapt your code to use either `displot` (a figure-level function with similar flexibility) or `histplot` (an axes-level function for histograms).\n",
      "  warnings.warn(msg, FutureWarning)\n"
     ]
    },
    {
     "data": {
      "image/png": "[encoded data removed]",
      "text/plain": [
       "<Figure size 432x288 with 1 Axes>"
      ]
     },
     "metadata": {
      "needs_background": "light"
     },
     "output_type": "display_data"
    },
    {
     "name": "stderr",
     "output_type": "stream",
     "text": [
      "C:\\Users\\ACER\\anaconda3\\lib\\site-packages\\seaborn\\distributions.py:2557: FutureWarning: `distplot` is a deprecated function and will be removed in a future version. Please adapt your code to use either `displot` (a figure-level function with similar flexibility) or `histplot` (an axes-level function for histograms).\n",
      "  warnings.warn(msg, FutureWarning)\n"
     ]
    },
    {
     "data": {
      "image/png": "[encoded data removed]",
      "text/plain": [
       "<Figure size 432x288 with 1 Axes>"
      ]
     },
     "metadata": {
      "needs_background": "light"
     },
     "output_type": "display_data"
    },
    {
     "name": "stderr",
     "output_type": "stream",
     "text": [
      "C:\\Users\\ACER\\anaconda3\\lib\\site-packages\\seaborn\\distributions.py:2557: FutureWarning: `distplot` is a deprecated function and will be removed in a future version. Please adapt your code to use either `displot` (a figure-level function with similar flexibility) or `histplot` (an axes-level function for histograms).\n",
      "  warnings.warn(msg, FutureWarning)\n"
     ]
    },
    {
     "data": {
      "image/png": "[encoded data removed]",
      "text/plain": [
       "<Figure size 432x288 with 1 Axes>"
      ]
     },
     "metadata": {
      "needs_background": "light"
     },
     "output_type": "display_data"
    },
    {
     "name": "stderr",
     "output_type": "stream",
     "text": [
      "C:\\Users\\ACER\\anaconda3\\lib\\site-packages\\seaborn\\distributions.py:2557: FutureWarning: `distplot` is a deprecated function and will be removed in a future version. Please adapt your code to use either `displot` (a figure-level function with similar flexibility) or `histplot` (an axes-level function for histograms).\n",
      "  warnings.warn(msg, FutureWarning)\n"
     ]
    },
    {
     "data": {
      "image/png": "[encoded data removed]",
      "text/plain": [
       "<Figure size 432x288 with 1 Axes>"
      ]
     },
     "metadata": {
      "needs_background": "light"
     },
     "output_type": "display_data"
    },
    {
     "name": "stderr",
     "output_type": "stream",
     "text": [
      "C:\\Users\\ACER\\anaconda3\\lib\\site-packages\\seaborn\\distributions.py:2557: FutureWarning: `distplot` is a deprecated function and will be removed in a future version. Please adapt your code to use either `displot` (a figure-level function with similar flexibility) or `histplot` (an axes-level function for histograms).\n",
      "  warnings.warn(msg, FutureWarning)\n"
     ]
    },
    {
     "data": {
      "image/png": "[encoded data removed]",
      "text/plain": [
       "<Figure size 432x288 with 1 Axes>"
      ]
     },
     "metadata": {
      "needs_background": "light"
     },
     "output_type": "display_data"
    },
    {
     "name": "stderr",
     "output_type": "stream",
     "text": [
      "C:\\Users\\ACER\\anaconda3\\lib\\site-packages\\seaborn\\distributions.py:2557: FutureWarning: `distplot` is a deprecated function and will be removed in a future version. Please adapt your code to use either `displot` (a figure-level function with similar flexibility) or `histplot` (an axes-level function for histograms).\n",
      "  warnings.warn(msg, FutureWarning)\n"
     ]
    },
    {
     "data": {
      "image/png": "[encoded data removed]",
      "text/plain": [
       "<Figure size 432x288 with 1 Axes>"
      ]
     },
     "metadata": {
      "needs_background": "light"
     },
     "output_type": "display_data"
    },
    {
     "name": "stderr",
     "output_type": "stream",
     "text": [
      "C:\\Users\\ACER\\anaconda3\\lib\\site-packages\\seaborn\\distributions.py:2557: FutureWarning: `distplot` is a deprecated function and will be removed in a future version. Please adapt your code to use either `displot` (a figure-level function with similar flexibility) or `histplot` (an axes-level function for histograms).\n",
      "  warnings.warn(msg, FutureWarning)\n"
     ]
    },
    {
     "data": {
      "image/png": "[encoded data removed]",
      "text/plain": [
       "<Figure size 432x288 with 1 Axes>"
      ]
     },
     "metadata": {
      "needs_background": "light"
     },
     "output_type": "display_data"
    },
    {
     "name": "stderr",
     "output_type": "stream",
     "text": [
      "C:\\Users\\ACER\\anaconda3\\lib\\site-packages\\seaborn\\distributions.py:2557: FutureWarning: `distplot` is a deprecated function and will be removed in a future version. Please adapt your code to use either `displot` (a figure-level function with similar flexibility) or `histplot` (an axes-level function for histograms).\n",
      "  warnings.warn(msg, FutureWarning)\n"
     ]
    },
    {
     "data": {
      "image/png": "[encoded data removed]",
      "text/plain": [
       "<Figure size 432x288 with 1 Axes>"
      ]
     },
     "metadata": {
      "needs_background": "light"
     },
     "output_type": "display_data"
    },
    {
     "name": "stderr",
     "output_type": "stream",
     "text": [
      "C:\\Users\\ACER\\anaconda3\\lib\\site-packages\\seaborn\\distributions.py:2557: FutureWarning: `distplot` is a deprecated function and will be removed in a future version. Please adapt your code to use either `displot` (a figure-level function with similar flexibility) or `histplot` (an axes-level function for histograms).\n",
      "  warnings.warn(msg, FutureWarning)\n"
     ]
    },
    {
     "data": {
      "image/png": "[encoded data removed]",
      "text/plain": [
       "<Figure size 432x288 with 1 Axes>"
      ]
     },
     "metadata": {
      "needs_background": "light"
     },
     "output_type": "display_data"
    },
    {
     "name": "stderr",
     "output_type": "stream",
     "text": [
      "C:\\Users\\ACER\\anaconda3\\lib\\site-packages\\seaborn\\distributions.py:2557: FutureWarning: `distplot` is a deprecated function and will be removed in a future version. Please adapt your code to use either `displot` (a figure-level function with similar flexibility) or `histplot` (an axes-level function for histograms).\n",
      "  warnings.warn(msg, FutureWarning)\n"
     ]
    },
    {
     "data": {
      "image/png": "[encoded data removed]",
      "text/plain": [
       "<Figure size 432x288 with 1 Axes>"
      ]
     },
     "metadata": {
      "needs_background": "light"
     },
     "output_type": "display_data"
    }
   ],
   "source": [
    "# Plot distribution of Continuous Features\n",
    "for feature in continuous_features:\n",
    "    sns.distplot(df[feature])\n",
    "    plt.show()"
   ]
  },
  {
   "cell_type": "code",
   "execution_count": 16,
   "id": "edcc660a",
   "metadata": {},
   "outputs": [
    {
     "name": "stderr",
     "output_type": "stream",
     "text": [
      "C:\\Users\\ACER\\anaconda3\\lib\\site-packages\\seaborn\\_decorators.py:43: FutureWarning: Pass the following variable as a keyword arg: x. From version 0.12, the only valid positional argument will be `data`, and passing other arguments without an explicit keyword will result in an error or misinterpretation.\n",
      "  FutureWarning\n"
     ]
    },
    {
     "data": {
      "text/plain": [
       "0    213642\n",
       "1     52815\n",
       "Name: EverDelinquent, dtype: int64"
      ]
     },
     "execution_count": 16,
     "metadata": {},
     "output_type": "execute_result"
    },
    {
     "data": {
      "image/png": "[encoded data removed]",
      "text/plain": [
       "<Figure size 432x288 with 1 Axes>"
      ]
     },
     "metadata": {
      "needs_background": "light"
     },
     "output_type": "display_data"
    }
   ],
   "source": [
    "sns.countplot(df['EverDelinquent'])\n",
    "df['EverDelinquent'].value_counts()"
   ]
  },
  {
   "cell_type": "code",
   "execution_count": 17,
   "id": "39cd820f",
   "metadata": {},
   "outputs": [],
   "source": [
    "def predict_outliers(continuous_features):\n",
    "    for feature in continuous_features:\n",
    "        sns.boxplot(y = df[feature])\n",
    "        plt.ylabel(feature)\n",
    "        plt.title(feature.title() + \" \" + \"Distribution\")\n",
    "        plt.show()"
   ]
  },
  {
   "cell_type": "code",
   "execution_count": 18,
   "id": "db8dfdac",
   "metadata": {},
   "outputs": [
    {
     "data": {
      "image/png": "[encoded data removed]",
      "text/plain": [
       "<Figure size 432x288 with 1 Axes>"
      ]
     },
     "metadata": {
      "needs_background": "light"
     },
     "output_type": "display_data"
    },
    {
     "data": {
      "image/png": "[encoded data removed]",
      "text/plain": [
       "<Figure size 432x288 with 1 Axes>"
      ]
     },
     "metadata": {
      "needs_background": "light"
     },
     "output_type": "display_data"
    },
    {
     "data": {
      "image/png": "[encoded data removed]",
      "text/plain": [
       "<Figure size 432x288 with 1 Axes>"
      ]
     },
     "metadata": {
      "needs_background": "light"
     },
     "output_type": "display_data"
    },
    {
     "data": {
      "image/png": "[encoded data removed]",
      "text/plain": [
       "<Figure size 432x288 with 1 Axes>"
      ]
     },
     "metadata": {
      "needs_background": "light"
     },
     "output_type": "display_data"
    },
    {
     "data": {
      "image/png": "[encoded data removed]",
      "text/plain": [
       "<Figure size 432x288 with 1 Axes>"
      ]
     },
     "metadata": {
      "needs_background": "light"
     },
     "output_type": "display_data"
    },
    {
     "data": {
      "image/png": "[encoded data removed]",
      "text/plain": [
       "<Figure size 432x288 with 1 Axes>"
      ]
     },
     "metadata": {
      "needs_background": "light"
     },
     "output_type": "display_data"
    },
    {
     "data": {
      "image/png": "[encoded data removed]",
      "text/plain": [
       "<Figure size 432x288 with 1 Axes>"
      ]
     },
     "metadata": {
      "needs_background": "light"
     },
     "output_type": "display_data"
    },
    {
     "data": {
      "image/png": "[encoded data removed]",
      "text/plain": [
       "<Figure size 432x288 with 1 Axes>"
      ]
     },
     "metadata": {
      "needs_background": "light"
     },
     "output_type": "display_data"
    },
    {
     "data": {
      "image/png": "[encoded data removed]",
      "text/plain": [
       "<Figure size 432x288 with 1 Axes>"
      ]
     },
     "metadata": {
      "needs_background": "light"
     },
     "output_type": "display_data"
    },
    {
     "data": {
      "image/png": "[encoded data removed]",
      "text/plain": [
       "<Figure size 432x288 with 1 Axes>"
      ]
     },
     "metadata": {
      "needs_background": "light"
     },
     "output_type": "display_data"
    }
   ],
   "source": [
    "predict_outliers(continuous_features)"
   ]
  },
  {
   "cell_type": "code",
   "execution_count": 19,
   "id": "e6adc7e0",
   "metadata": {},
   "outputs": [
    {
     "data": {
      "text/html": [
       "<div>\n",
       "<style scoped>\n",
       "    .dataframe tbody tr th:only-of-type {\n",
       "        vertical-align: middle;\n",
       "    }\n",
       "\n",
       "    .dataframe tbody tr th {\n",
       "        vertical-align: top;\n",
       "    }\n",
       "\n",
       "    .dataframe thead th {\n",
       "        text-align: right;\n",
       "    }\n",
       "</style>\n",
       "<table border=\"1\" class=\"dataframe\">\n",
       "  <thead>\n",
       "    <tr style=\"text-align: right;\">\n",
       "      <th></th>\n",
       "      <th>CreditScore</th>\n",
       "      <th>MIP</th>\n",
       "      <th>Units</th>\n",
       "      <th>OCLTV</th>\n",
       "      <th>DTI</th>\n",
       "      <th>OrigUPB</th>\n",
       "      <th>LTV</th>\n",
       "      <th>OrigInterestRate</th>\n",
       "      <th>OrigLoanTerm</th>\n",
       "      <th>EverDelinquent</th>\n",
       "      <th>MonthsDelinquent</th>\n",
       "      <th>MonthsInRepayment</th>\n",
       "    </tr>\n",
       "  </thead>\n",
       "  <tbody>\n",
       "    <tr>\n",
       "      <th>count</th>\n",
       "      <td>266457.000000</td>\n",
       "      <td>266457.000000</td>\n",
       "      <td>266457.000000</td>\n",
       "      <td>266457.000000</td>\n",
       "      <td>266457.000000</td>\n",
       "      <td>266457.000000</td>\n",
       "      <td>266457.000000</td>\n",
       "      <td>266457.000000</td>\n",
       "      <td>266457.000000</td>\n",
       "      <td>266457.000000</td>\n",
       "      <td>266457.000000</td>\n",
       "      <td>266457.000000</td>\n",
       "    </tr>\n",
       "    <tr>\n",
       "      <th>mean</th>\n",
       "      <td>708.915097</td>\n",
       "      <td>9.121085</td>\n",
       "      <td>1.025907</td>\n",
       "      <td>76.883970</td>\n",
       "      <td>30.038708</td>\n",
       "      <td>125240.057495</td>\n",
       "      <td>76.862818</td>\n",
       "      <td>6.928868</td>\n",
       "      <td>359.826565</td>\n",
       "      <td>0.198212</td>\n",
       "      <td>1.831083</td>\n",
       "      <td>60.637994</td>\n",
       "    </tr>\n",
       "    <tr>\n",
       "      <th>std</th>\n",
       "      <td>68.301151</td>\n",
       "      <td>12.619794</td>\n",
       "      <td>0.202276</td>\n",
       "      <td>15.192873</td>\n",
       "      <td>13.338958</td>\n",
       "      <td>53451.469470</td>\n",
       "      <td>15.182675</td>\n",
       "      <td>0.346160</td>\n",
       "      <td>2.354774</td>\n",
       "      <td>0.398654</td>\n",
       "      <td>8.760016</td>\n",
       "      <td>45.773241</td>\n",
       "    </tr>\n",
       "    <tr>\n",
       "      <th>min</th>\n",
       "      <td>0.000000</td>\n",
       "      <td>0.000000</td>\n",
       "      <td>0.000000</td>\n",
       "      <td>0.000000</td>\n",
       "      <td>0.000000</td>\n",
       "      <td>8000.000000</td>\n",
       "      <td>0.000000</td>\n",
       "      <td>4.000000</td>\n",
       "      <td>301.000000</td>\n",
       "      <td>0.000000</td>\n",
       "      <td>0.000000</td>\n",
       "      <td>1.000000</td>\n",
       "    </tr>\n",
       "    <tr>\n",
       "      <th>25%</th>\n",
       "      <td>675.000000</td>\n",
       "      <td>0.000000</td>\n",
       "      <td>1.000000</td>\n",
       "      <td>70.000000</td>\n",
       "      <td>22.000000</td>\n",
       "      <td>83000.000000</td>\n",
       "      <td>70.000000</td>\n",
       "      <td>6.750000</td>\n",
       "      <td>360.000000</td>\n",
       "      <td>0.000000</td>\n",
       "      <td>0.000000</td>\n",
       "      <td>35.000000</td>\n",
       "    </tr>\n",
       "    <tr>\n",
       "      <th>50%</th>\n",
       "      <td>717.000000</td>\n",
       "      <td>0.000000</td>\n",
       "      <td>1.000000</td>\n",
       "      <td>80.000000</td>\n",
       "      <td>31.000000</td>\n",
       "      <td>118000.000000</td>\n",
       "      <td>80.000000</td>\n",
       "      <td>6.875000</td>\n",
       "      <td>360.000000</td>\n",
       "      <td>0.000000</td>\n",
       "      <td>0.000000</td>\n",
       "      <td>48.000000</td>\n",
       "    </tr>\n",
       "    <tr>\n",
       "      <th>75%</th>\n",
       "      <td>753.000000</td>\n",
       "      <td>25.000000</td>\n",
       "      <td>1.000000</td>\n",
       "      <td>90.000000</td>\n",
       "      <td>39.000000</td>\n",
       "      <td>160000.000000</td>\n",
       "      <td>90.000000</td>\n",
       "      <td>7.125000</td>\n",
       "      <td>360.000000</td>\n",
       "      <td>0.000000</td>\n",
       "      <td>0.000000</td>\n",
       "      <td>63.000000</td>\n",
       "    </tr>\n",
       "    <tr>\n",
       "      <th>max</th>\n",
       "      <td>849.000000</td>\n",
       "      <td>55.000000</td>\n",
       "      <td>4.000000</td>\n",
       "      <td>110.000000</td>\n",
       "      <td>65.000000</td>\n",
       "      <td>497000.000000</td>\n",
       "      <td>103.000000</td>\n",
       "      <td>12.350000</td>\n",
       "      <td>361.000000</td>\n",
       "      <td>1.000000</td>\n",
       "      <td>180.000000</td>\n",
       "      <td>212.000000</td>\n",
       "    </tr>\n",
       "  </tbody>\n",
       "</table>\n",
       "</div>"
      ],
      "text/plain": [
       "         CreditScore            MIP          Units          OCLTV  \\\n",
       "count  266457.000000  266457.000000  266457.000000  266457.000000   \n",
       "mean      708.915097       9.121085       1.025907      76.883970   \n",
       "std        68.301151      12.619794       0.202276      15.192873   \n",
       "min         0.000000       0.000000       0.000000       0.000000   \n",
       "25%       675.000000       0.000000       1.000000      70.000000   \n",
       "50%       717.000000       0.000000       1.000000      80.000000   \n",
       "75%       753.000000      25.000000       1.000000      90.000000   \n",
       "max       849.000000      55.000000       4.000000     110.000000   \n",
       "\n",
       "                 DTI        OrigUPB            LTV  OrigInterestRate  \\\n",
       "count  266457.000000  266457.000000  266457.000000     266457.000000   \n",
       "mean       30.038708  125240.057495      76.862818          6.928868   \n",
       "std        13.338958   53451.469470      15.182675          0.346160   \n",
       "min         0.000000    8000.000000       0.000000          4.000000   \n",
       "25%        22.000000   83000.000000      70.000000          6.750000   \n",
       "50%        31.000000  118000.000000      80.000000          6.875000   \n",
       "75%        39.000000  160000.000000      90.000000          7.125000   \n",
       "max        65.000000  497000.000000     103.000000         12.350000   \n",
       "\n",
       "        OrigLoanTerm  EverDelinquent  MonthsDelinquent  MonthsInRepayment  \n",
       "count  266457.000000   266457.000000     266457.000000      266457.000000  \n",
       "mean      359.826565        0.198212          1.831083          60.637994  \n",
       "std         2.354774        0.398654          8.760016          45.773241  \n",
       "min       301.000000        0.000000          0.000000           1.000000  \n",
       "25%       360.000000        0.000000          0.000000          35.000000  \n",
       "50%       360.000000        0.000000          0.000000          48.000000  \n",
       "75%       360.000000        0.000000          0.000000          63.000000  \n",
       "max       361.000000        1.000000        180.000000         212.000000  "
      ]
     },
     "execution_count": 19,
     "metadata": {},
     "output_type": "execute_result"
    }
   ],
   "source": [
    "df.describe()"
   ]
  },
  {
   "cell_type": "code",
   "execution_count": 20,
   "id": "7252e75b",
   "metadata": {},
   "outputs": [
    {
     "data": {
      "text/plain": [
       "array([335, 342, 363, 366, 370, 375, 391, 396, 466, 471, 476, 477, 478,\n",
       "       479, 481, 482, 483, 485, 486, 487, 489, 490, 491, 492, 493, 494,\n",
       "       495, 496, 497, 498, 499, 500, 501, 502, 503, 504, 505, 506, 507,\n",
       "       508, 509, 510, 511, 512, 513, 514, 515, 516, 517, 518, 519, 520,\n",
       "       521, 522, 523, 524, 525, 526, 527, 528, 529, 530, 531, 532, 533,\n",
       "       534, 535, 536, 537, 538, 539, 540, 541, 542, 543, 544, 545, 546,\n",
       "       547, 548, 549, 550, 551, 552, 553, 554, 555, 556, 557, 558, 559,\n",
       "       560, 561, 562, 563, 564, 565, 566, 567, 568, 569, 570, 571, 572,\n",
       "       573, 574, 575, 576, 577, 578, 579, 580, 581, 582, 583, 584, 585,\n",
       "       586, 587, 588, 589, 590, 591, 592, 593, 594, 595, 596, 597, 598,\n",
       "       599, 600, 601, 602, 603, 604, 605, 606, 607, 608, 609, 610, 611,\n",
       "       612, 613, 614, 615, 616, 617, 618, 619, 620, 621, 622, 623, 624,\n",
       "       625, 626, 627, 628, 629, 630, 631, 632, 633, 634, 635, 636, 637,\n",
       "       638, 639, 640, 641, 642, 643, 644, 645, 646, 647, 648, 649, 650,\n",
       "       651, 652, 653, 654, 655, 656, 657, 658, 659, 660, 661, 662, 663,\n",
       "       664, 665, 666, 667, 668, 669, 670, 671, 672, 673, 674, 675, 676,\n",
       "       677, 678, 679, 680, 681, 682, 683, 684, 685, 686, 687, 688, 689,\n",
       "       690, 691, 692, 693, 694, 695, 696, 697, 698, 699, 700, 701, 702,\n",
       "       703, 704, 705, 706, 707, 708, 709, 710, 711, 712, 713, 714, 715,\n",
       "       716, 717, 718, 719, 720, 721, 722, 723, 724, 725, 726, 727, 728,\n",
       "       729, 730, 731, 732, 733, 734, 735, 736, 737, 738, 739, 740, 741,\n",
       "       742, 743, 744, 745, 746, 747, 748, 749, 750, 751, 752, 753, 754,\n",
       "       755, 756, 757, 758, 759, 760, 761, 762, 763, 764, 765, 766, 767,\n",
       "       768, 769, 770, 771, 772, 773, 774, 775, 776, 777, 778, 779, 780,\n",
       "       781, 782, 783, 784, 785, 786, 787, 788, 789, 790, 791, 792, 793,\n",
       "       794, 795, 796, 797, 798, 799, 800, 801, 802, 803, 804, 805, 806,\n",
       "       807, 808, 809, 810, 811, 812, 813, 814, 815, 816, 817, 818, 819,\n",
       "       820, 822, 823, 825, 826, 827, 828, 829, 831, 835, 837, 838, 839,\n",
       "       840, 845, 849, 850], dtype=int64)"
      ]
     },
     "execution_count": 20,
     "metadata": {},
     "output_type": "execute_result"
    }
   ],
   "source": [
    "# replacing the 0 with 850\n",
    "df['CreditScore'] = np.where(df['CreditScore'] == 0, 850, df['CreditScore'])\n",
    "np.sort(df.CreditScore.unique())"
   ]
  },
  {
   "cell_type": "code",
   "execution_count": 22,
   "id": "46a5dae4",
   "metadata": {},
   "outputs": [],
   "source": [
    "def handle_outlier(col):\n",
    "    sorted(col)\n",
    "    q1,q3=col.quantile([0.25,0.75])\n",
    "    IQR=q3-q1\n",
    "    lower_range=q1-(1.5*IQR)\n",
    "    upper_range=q3+(1.5*IQR)\n",
    "    return lower_range,upper_range\n",
    "\n",
    "lowvisib,uppvisib=handle_outlier(df['CreditScore'])\n",
    "\n",
    "df['CreditScore']=np.where(df['CreditScore']>uppvisib,uppvisib,df['CreditScore'])\n",
    "df['CreditScore']=np.where(df['CreditScore']<lowvisib,lowvisib,df['CreditScore'])"
   ]
  },
  {
   "cell_type": "code",
   "execution_count": 23,
   "id": "3ce7f26b",
   "metadata": {},
   "outputs": [],
   "source": [
    "def handle_outlier(col):\n",
    "    sorted(col)\n",
    "    q1,q3=col.quantile([0.25,0.75])\n",
    "    IQR=q3-q1\n",
    "    lower_range=q1-(1.5*IQR)\n",
    "    upper_range=q3+(1.5*IQR)\n",
    "    return lower_range,upper_range\n",
    "\n",
    "lowvisib,uppvisib=handle_outlier(df['OCLTV'])\n",
    "\n",
    "df['OCLTV']=np.where(df['OCLTV']>uppvisib,uppvisib,df['OCLTV'])\n",
    "df['OCLTV']=np.where(df['OCLTV']<lowvisib,lowvisib,df['OCLTV'])"
   ]
  },
  {
   "cell_type": "code",
   "execution_count": 24,
   "id": "b4ea379d",
   "metadata": {},
   "outputs": [],
   "source": [
    "def handle_outlier(col):\n",
    "    sorted(col)\n",
    "    q1,q3=col.quantile([0.25,0.75])\n",
    "    IQR=q3-q1\n",
    "    lower_range=q1-(1.5*IQR)\n",
    "    upper_range=q3+(1.5*IQR)\n",
    "    return lower_range,upper_range\n",
    "\n",
    "lowvisib,uppvisib=handle_outlier(df['DTI'])\n",
    "\n",
    "df['DTI']=np.where(df['DTI']>uppvisib,uppvisib,df['DTI'])\n",
    "df['DTI']=np.where(df['DTI']<lowvisib,lowvisib,df['DTI'])"
   ]
  },
  {
   "cell_type": "code",
   "execution_count": 25,
   "id": "f5e2a893",
   "metadata": {},
   "outputs": [],
   "source": [
    "def handle_outlier(col):\n",
    "    sorted(col)\n",
    "    q1,q3=col.quantile([0.25,0.75])\n",
    "    IQR=q3-q1\n",
    "    lower_range=q1-(1.5*IQR)\n",
    "    upper_range=q3+(1.5*IQR)\n",
    "    return lower_range,upper_range\n",
    "\n",
    "lowvisib,uppvisib=handle_outlier(df['OrigUPB'])\n",
    "\n",
    "df['OrigUPB']=np.where(df['OrigUPB']>uppvisib,uppvisib,df['OrigUPB'])\n",
    "df['OrigUPB']=np.where(df['OrigUPB']<lowvisib,lowvisib,df['OrigUPB'])"
   ]
  },
  {
   "cell_type": "code",
   "execution_count": 26,
   "id": "57e78421",
   "metadata": {},
   "outputs": [],
   "source": [
    "def handle_outlier(col):\n",
    "    sorted(col)\n",
    "    q1,q3=col.quantile([0.25,0.75])\n",
    "    IQR=q3-q1\n",
    "    lower_range=q1-(1.5*IQR)\n",
    "    upper_range=q3+(1.5*IQR)\n",
    "    return lower_range,upper_range\n",
    "\n",
    "lowvisib,uppvisib=handle_outlier(df['LTV'])\n",
    "\n",
    "df['LTV']=np.where(df['LTV']>uppvisib,uppvisib,df['LTV'])\n",
    "df['LTV']=np.where(df['LTV']<lowvisib,lowvisib,df['LTV'])"
   ]
  },
  {
   "cell_type": "code",
   "execution_count": 27,
   "id": "57cff331",
   "metadata": {},
   "outputs": [],
   "source": [
    "def handle_outlier(col):\n",
    "    sorted(col)\n",
    "    q1,q3=col.quantile([0.25,0.75])\n",
    "    IQR=q3-q1\n",
    "    lower_range=q1-(1.5*IQR)\n",
    "    upper_range=q3+(1.5*IQR)\n",
    "    return lower_range,upper_range\n",
    "\n",
    "lowvisib,uppvisib=handle_outlier(df['OrigInterestRate'])\n",
    "\n",
    "df['OrigInterestRate']=np.where(df['OrigInterestRate']>uppvisib,uppvisib,df['OrigInterestRate'])\n",
    "df['OrigInterestRate']=np.where(df['OrigInterestRate']<lowvisib,lowvisib,df['OrigInterestRate'])"
   ]
  },
  {
   "cell_type": "code",
   "execution_count": 28,
   "id": "b59b0a00",
   "metadata": {},
   "outputs": [],
   "source": [
    "def handle_outlier(col):\n",
    "    sorted(col)\n",
    "    q1,q3=col.quantile([0.25,0.75])\n",
    "    IQR=q3-q1\n",
    "    lower_range=q1-(1.5*IQR)\n",
    "    upper_range=q3+(1.5*IQR)\n",
    "    return lower_range,upper_range\n",
    "\n",
    "lowvisib,uppvisib=handle_outlier(df['MonthsInRepayment'])\n",
    "\n",
    "df['MonthsInRepayment']=np.where(df['MonthsInRepayment']>uppvisib,uppvisib,df['MonthsInRepayment'])\n",
    "df['MonthsInRepayment']=np.where(df['MonthsInRepayment']<lowvisib,lowvisib,df['MonthsInRepayment'])"
   ]
  },
  {
   "cell_type": "code",
   "execution_count": 29,
   "id": "45681d19",
   "metadata": {},
   "outputs": [
    {
     "data": {
      "image/png": "[encoded data removed]",
      "text/plain": [
       "<Figure size 432x288 with 1 Axes>"
      ]
     },
     "metadata": {
      "needs_background": "light"
     },
     "output_type": "display_data"
    },
    {
     "data": {
      "image/png": "[encoded data removed]",
      "text/plain": [
       "<Figure size 432x288 with 1 Axes>"
      ]
     },
     "metadata": {
      "needs_background": "light"
     },
     "output_type": "display_data"
    },
    {
     "data": {
      "image/png": "[encoded data removed]",
      "text/plain": [
       "<Figure size 432x288 with 1 Axes>"
      ]
     },
     "metadata": {
      "needs_background": "light"
     },
     "output_type": "display_data"
    },
    {
     "data": {
      "image/png": "[encoded data removed]",
      "text/plain": [
       "<Figure size 432x288 with 1 Axes>"
      ]
     },
     "metadata": {
      "needs_background": "light"
     },
     "output_type": "display_data"
    },
    {
     "data": {
      "image/png": "[encoded data removed]",
      "text/plain": [
       "<Figure size 432x288 with 1 Axes>"
      ]
     },
     "metadata": {
      "needs_background": "light"
     },
     "output_type": "display_data"
    },
    {
     "data": {
      "image/png": "[encoded data removed]",
      "text/plain": [
       "<Figure size 432x288 with 1 Axes>"
      ]
     },
     "metadata": {
      "needs_background": "light"
     },
     "output_type": "display_data"
    },
    {
     "data": {
      "image/png": "[encoded data removed]",
      "text/plain": [
       "<Figure size 432x288 with 1 Axes>"
      ]
     },
     "metadata": {
      "needs_background": "light"
     },
     "output_type": "display_data"
    },
    {
     "data": {
      "image/png": "[encoded data removed]",
      "text/plain": [
       "<Figure size 432x288 with 1 Axes>"
      ]
     },
     "metadata": {
      "needs_background": "light"
     },
     "output_type": "display_data"
    },
    {
     "data": {
      "image/png": "[encoded data removed]",
      "text/plain": [
       "<Figure size 432x288 with 1 Axes>"
      ]
     },
     "metadata": {
      "needs_background": "light"
     },
     "output_type": "display_data"
    },
    {
     "data": {
      "image/png": "[encoded data removed]",
      "text/plain": [
       "<Figure size 432x288 with 1 Axes>"
      ]
     },
     "metadata": {
      "needs_background": "light"
     },
     "output_type": "display_data"
    }
   ],
   "source": [
    "predict_outliers(continuous_features)"
   ]
  },
  {
   "cell_type": "code",
   "execution_count": 30,
   "id": "fe400bcb",
   "metadata": {},
   "outputs": [
    {
     "data": {
      "text/html": [
       "<div>\n",
       "<style scoped>\n",
       "    .dataframe tbody tr th:only-of-type {\n",
       "        vertical-align: middle;\n",
       "    }\n",
       "\n",
       "    .dataframe tbody tr th {\n",
       "        vertical-align: top;\n",
       "    }\n",
       "\n",
       "    .dataframe thead th {\n",
       "        text-align: right;\n",
       "    }\n",
       "</style>\n",
       "<table border=\"1\" class=\"dataframe\">\n",
       "  <thead>\n",
       "    <tr style=\"text-align: right;\">\n",
       "      <th></th>\n",
       "      <th>CreditScore</th>\n",
       "      <th>MIP</th>\n",
       "      <th>Units</th>\n",
       "      <th>OCLTV</th>\n",
       "      <th>DTI</th>\n",
       "      <th>OrigUPB</th>\n",
       "      <th>LTV</th>\n",
       "      <th>OrigInterestRate</th>\n",
       "      <th>OrigLoanTerm</th>\n",
       "      <th>EverDelinquent</th>\n",
       "      <th>MonthsDelinquent</th>\n",
       "      <th>MonthsInRepayment</th>\n",
       "    </tr>\n",
       "  </thead>\n",
       "  <tbody>\n",
       "    <tr>\n",
       "      <th>count</th>\n",
       "      <td>266457.000000</td>\n",
       "      <td>266457.000000</td>\n",
       "      <td>266457.000000</td>\n",
       "      <td>266457.000000</td>\n",
       "      <td>266457.000000</td>\n",
       "      <td>266457.000000</td>\n",
       "      <td>266457.000000</td>\n",
       "      <td>266457.000000</td>\n",
       "      <td>266457.000000</td>\n",
       "      <td>266457.000000</td>\n",
       "      <td>266457.000000</td>\n",
       "      <td>266457.000000</td>\n",
       "    </tr>\n",
       "    <tr>\n",
       "      <th>mean</th>\n",
       "      <td>712.452897</td>\n",
       "      <td>9.121085</td>\n",
       "      <td>1.025907</td>\n",
       "      <td>77.162488</td>\n",
       "      <td>30.038342</td>\n",
       "      <td>125154.131811</td>\n",
       "      <td>77.141456</td>\n",
       "      <td>6.921583</td>\n",
       "      <td>359.826565</td>\n",
       "      <td>0.198212</td>\n",
       "      <td>1.831083</td>\n",
       "      <td>52.923736</td>\n",
       "    </tr>\n",
       "    <tr>\n",
       "      <th>std</th>\n",
       "      <td>51.631159</td>\n",
       "      <td>12.619794</td>\n",
       "      <td>0.202276</td>\n",
       "      <td>14.359909</td>\n",
       "      <td>13.338006</td>\n",
       "      <td>53157.997837</td>\n",
       "      <td>14.349158</td>\n",
       "      <td>0.303643</td>\n",
       "      <td>2.354774</td>\n",
       "      <td>0.398654</td>\n",
       "      <td>8.760016</td>\n",
       "      <td>27.221733</td>\n",
       "    </tr>\n",
       "    <tr>\n",
       "      <th>min</th>\n",
       "      <td>560.500000</td>\n",
       "      <td>0.000000</td>\n",
       "      <td>0.000000</td>\n",
       "      <td>40.000000</td>\n",
       "      <td>0.000000</td>\n",
       "      <td>8000.000000</td>\n",
       "      <td>40.000000</td>\n",
       "      <td>6.187500</td>\n",
       "      <td>301.000000</td>\n",
       "      <td>0.000000</td>\n",
       "      <td>0.000000</td>\n",
       "      <td>1.000000</td>\n",
       "    </tr>\n",
       "    <tr>\n",
       "      <th>25%</th>\n",
       "      <td>676.000000</td>\n",
       "      <td>0.000000</td>\n",
       "      <td>1.000000</td>\n",
       "      <td>70.000000</td>\n",
       "      <td>22.000000</td>\n",
       "      <td>83000.000000</td>\n",
       "      <td>70.000000</td>\n",
       "      <td>6.750000</td>\n",
       "      <td>360.000000</td>\n",
       "      <td>0.000000</td>\n",
       "      <td>0.000000</td>\n",
       "      <td>35.000000</td>\n",
       "    </tr>\n",
       "    <tr>\n",
       "      <th>50%</th>\n",
       "      <td>718.000000</td>\n",
       "      <td>0.000000</td>\n",
       "      <td>1.000000</td>\n",
       "      <td>80.000000</td>\n",
       "      <td>31.000000</td>\n",
       "      <td>118000.000000</td>\n",
       "      <td>80.000000</td>\n",
       "      <td>6.875000</td>\n",
       "      <td>360.000000</td>\n",
       "      <td>0.000000</td>\n",
       "      <td>0.000000</td>\n",
       "      <td>48.000000</td>\n",
       "    </tr>\n",
       "    <tr>\n",
       "      <th>75%</th>\n",
       "      <td>753.000000</td>\n",
       "      <td>25.000000</td>\n",
       "      <td>1.000000</td>\n",
       "      <td>90.000000</td>\n",
       "      <td>39.000000</td>\n",
       "      <td>160000.000000</td>\n",
       "      <td>90.000000</td>\n",
       "      <td>7.125000</td>\n",
       "      <td>360.000000</td>\n",
       "      <td>0.000000</td>\n",
       "      <td>0.000000</td>\n",
       "      <td>63.000000</td>\n",
       "    </tr>\n",
       "    <tr>\n",
       "      <th>max</th>\n",
       "      <td>850.000000</td>\n",
       "      <td>55.000000</td>\n",
       "      <td>4.000000</td>\n",
       "      <td>110.000000</td>\n",
       "      <td>64.500000</td>\n",
       "      <td>275500.000000</td>\n",
       "      <td>103.000000</td>\n",
       "      <td>7.687500</td>\n",
       "      <td>361.000000</td>\n",
       "      <td>1.000000</td>\n",
       "      <td>180.000000</td>\n",
       "      <td>105.000000</td>\n",
       "    </tr>\n",
       "  </tbody>\n",
       "</table>\n",
       "</div>"
      ],
      "text/plain": [
       "         CreditScore            MIP          Units          OCLTV  \\\n",
       "count  266457.000000  266457.000000  266457.000000  266457.000000   \n",
       "mean      712.452897       9.121085       1.025907      77.162488   \n",
       "std        51.631159      12.619794       0.202276      14.359909   \n",
       "min       560.500000       0.000000       0.000000      40.000000   \n",
       "25%       676.000000       0.000000       1.000000      70.000000   \n",
       "50%       718.000000       0.000000       1.000000      80.000000   \n",
       "75%       753.000000      25.000000       1.000000      90.000000   \n",
       "max       850.000000      55.000000       4.000000     110.000000   \n",
       "\n",
       "                 DTI        OrigUPB            LTV  OrigInterestRate  \\\n",
       "count  266457.000000  266457.000000  266457.000000     266457.000000   \n",
       "mean       30.038342  125154.131811      77.141456          6.921583   \n",
       "std        13.338006   53157.997837      14.349158          0.303643   \n",
       "min         0.000000    8000.000000      40.000000          6.187500   \n",
       "25%        22.000000   83000.000000      70.000000          6.750000   \n",
       "50%        31.000000  118000.000000      80.000000          6.875000   \n",
       "75%        39.000000  160000.000000      90.000000          7.125000   \n",
       "max        64.500000  275500.000000     103.000000          7.687500   \n",
       "\n",
       "        OrigLoanTerm  EverDelinquent  MonthsDelinquent  MonthsInRepayment  \n",
       "count  266457.000000   266457.000000     266457.000000      266457.000000  \n",
       "mean      359.826565        0.198212          1.831083          52.923736  \n",
       "std         2.354774        0.398654          8.760016          27.221733  \n",
       "min       301.000000        0.000000          0.000000           1.000000  \n",
       "25%       360.000000        0.000000          0.000000          35.000000  \n",
       "50%       360.000000        0.000000          0.000000          48.000000  \n",
       "75%       360.000000        0.000000          0.000000          63.000000  \n",
       "max       361.000000        1.000000        180.000000         105.000000  "
      ]
     },
     "execution_count": 30,
     "metadata": {},
     "output_type": "execute_result"
    }
   ],
   "source": [
    "df.describe()"
   ]
  },
  {
   "cell_type": "markdown",
   "id": "b6fadeac",
   "metadata": {},
   "source": [
    "## CreditScore > CreditRange"
   ]
  },
  {
   "cell_type": "code",
   "execution_count": 31,
   "id": "a615dd07",
   "metadata": {},
   "outputs": [
    {
     "data": {
      "text/plain": [
       "array([560.5, 561. , 562. , 563. , 564. , 565. , 566. , 567. , 568. ,\n",
       "       569. , 570. , 571. , 572. , 573. , 574. , 575. , 576. , 577. ,\n",
       "       578. , 579. , 580. , 581. , 582. , 583. , 584. , 585. , 586. ,\n",
       "       587. , 588. , 589. , 590. , 591. , 592. , 593. , 594. , 595. ,\n",
       "       596. , 597. , 598. , 599. , 600. , 601. , 602. , 603. , 604. ,\n",
       "       605. , 606. , 607. , 608. , 609. , 610. , 611. , 612. , 613. ,\n",
       "       614. , 615. , 616. , 617. , 618. , 619. , 620. , 621. , 622. ,\n",
       "       623. , 624. , 625. , 626. , 627. , 628. , 629. , 630. , 631. ,\n",
       "       632. , 633. , 634. , 635. , 636. , 637. , 638. , 639. , 640. ,\n",
       "       641. , 642. , 643. , 644. , 645. , 646. , 647. , 648. , 649. ,\n",
       "       650. , 651. , 652. , 653. , 654. , 655. , 656. , 657. , 658. ,\n",
       "       659. , 660. , 661. , 662. , 663. , 664. , 665. , 666. , 667. ,\n",
       "       668. , 669. , 670. , 671. , 672. , 673. , 674. , 675. , 676. ,\n",
       "       677. , 678. , 679. , 680. , 681. , 682. , 683. , 684. , 685. ,\n",
       "       686. , 687. , 688. , 689. , 690. , 691. , 692. , 693. , 694. ,\n",
       "       695. , 696. , 697. , 698. , 699. , 700. , 701. , 702. , 703. ,\n",
       "       704. , 705. , 706. , 707. , 708. , 709. , 710. , 711. , 712. ,\n",
       "       713. , 714. , 715. , 716. , 717. , 718. , 719. , 720. , 721. ,\n",
       "       722. , 723. , 724. , 725. , 726. , 727. , 728. , 729. , 730. ,\n",
       "       731. , 732. , 733. , 734. , 735. , 736. , 737. , 738. , 739. ,\n",
       "       740. , 741. , 742. , 743. , 744. , 745. , 746. , 747. , 748. ,\n",
       "       749. , 750. , 751. , 752. , 753. , 754. , 755. , 756. , 757. ,\n",
       "       758. , 759. , 760. , 761. , 762. , 763. , 764. , 765. , 766. ,\n",
       "       767. , 768. , 769. , 770. , 771. , 772. , 773. , 774. , 775. ,\n",
       "       776. , 777. , 778. , 779. , 780. , 781. , 782. , 783. , 784. ,\n",
       "       785. , 786. , 787. , 788. , 789. , 790. , 791. , 792. , 793. ,\n",
       "       794. , 795. , 796. , 797. , 798. , 799. , 800. , 801. , 802. ,\n",
       "       803. , 804. , 805. , 806. , 807. , 808. , 809. , 810. , 811. ,\n",
       "       812. , 813. , 814. , 815. , 816. , 817. , 818. , 819. , 820. ,\n",
       "       822. , 823. , 825. , 826. , 827. , 828. , 829. , 831. , 835. ,\n",
       "       837. , 838. , 839. , 840. , 845. , 849. , 850. ])"
      ]
     },
     "execution_count": 31,
     "metadata": {},
     "output_type": "execute_result"
    }
   ],
   "source": [
    "np.sort(df.CreditScore.unique())"
   ]
  },
  {
   "cell_type": "code",
   "execution_count": 32,
   "id": "f125854e",
   "metadata": {},
   "outputs": [],
   "source": [
    "conditions = [(df['CreditScore']< 650),\n",
    "             (df['CreditScore']>=650) & (df['CreditScore']<700),\n",
    "             (df['CreditScore']>=700) & (df['CreditScore']<750),\n",
    "             (df['CreditScore']>=750) & (df['CreditScore']<851)]\n",
    "\n",
    "values = ['Poor','Fair','Good','Excellent']\n",
    "\n",
    "df['CreditRange'] = np.select(conditions,values)"
   ]
  },
  {
   "cell_type": "code",
   "execution_count": 33,
   "id": "786b08b0",
   "metadata": {},
   "outputs": [
    {
     "data": {
      "text/plain": [
       "Good         90411\n",
       "Excellent    73532\n",
       "Fair         67562\n",
       "Poor         34952\n",
       "Name: CreditRange, dtype: int64"
      ]
     },
     "execution_count": 33,
     "metadata": {},
     "output_type": "execute_result"
    }
   ],
   "source": [
    "df['CreditRange'].value_counts()"
   ]
  },
  {
   "cell_type": "code",
   "execution_count": 34,
   "id": "ab6c3761",
   "metadata": {},
   "outputs": [
    {
     "data": {
      "text/plain": [
       "2    90411\n",
       "0    73532\n",
       "1    67562\n",
       "3    34952\n",
       "Name: CreditRange, dtype: int64"
      ]
     },
     "execution_count": 34,
     "metadata": {},
     "output_type": "execute_result"
    }
   ],
   "source": [
    "# 0-Execellent, 1-Fair, 2-Good, 3-Poor\n",
    "\n",
    "from sklearn import preprocessing\n",
    "label_encoder = preprocessing.LabelEncoder()\n",
    "  \n",
    "df['CreditRange']= label_encoder.fit_transform(df['CreditRange'])\n",
    "  \n",
    "df['CreditRange'].value_counts()"
   ]
  },
  {
   "cell_type": "markdown",
   "id": "a94d7fbd",
   "metadata": {},
   "source": [
    "## LTV > LTVRange"
   ]
  },
  {
   "cell_type": "code",
   "execution_count": 35,
   "id": "71bc4c7a",
   "metadata": {},
   "outputs": [
    {
     "data": {
      "text/plain": [
       "array([ 40.,  41.,  42.,  43.,  44.,  45.,  46.,  47.,  48.,  49.,  50.,\n",
       "        51.,  52.,  53.,  54.,  55.,  56.,  57.,  58.,  59.,  60.,  61.,\n",
       "        62.,  63.,  64.,  65.,  66.,  67.,  68.,  69.,  70.,  71.,  72.,\n",
       "        73.,  74.,  75.,  76.,  77.,  78.,  79.,  80.,  81.,  82.,  83.,\n",
       "        84.,  85.,  86.,  87.,  88.,  89.,  90.,  91.,  92.,  93.,  94.,\n",
       "        95.,  96.,  97.,  98.,  99., 100., 103.])"
      ]
     },
     "execution_count": 35,
     "metadata": {},
     "output_type": "execute_result"
    }
   ],
   "source": [
    "np.sort(df.LTV.unique())"
   ]
  },
  {
   "cell_type": "code",
   "execution_count": 36,
   "id": "ed468009",
   "metadata": {},
   "outputs": [],
   "source": [
    "conditions = [(df['LTV']< 50),\n",
    "             (df['LTV']>=50) & (df['LTV']<75),\n",
    "             (df['LTV']>=75) & (df['LTV']<110)]\n",
    "\n",
    "values = ['Low','Medium','High']\n",
    "\n",
    "df['LTVRange'] = np.select(conditions,values)"
   ]
  },
  {
   "cell_type": "code",
   "execution_count": 37,
   "id": "34e854ae",
   "metadata": {},
   "outputs": [
    {
     "data": {
      "text/plain": [
       "High      181386\n",
       "Medium     67539\n",
       "Low        17532\n",
       "Name: LTVRange, dtype: int64"
      ]
     },
     "execution_count": 37,
     "metadata": {},
     "output_type": "execute_result"
    }
   ],
   "source": [
    "df['LTVRange'].value_counts()"
   ]
  },
  {
   "cell_type": "code",
   "execution_count": 38,
   "id": "c3eecf19",
   "metadata": {},
   "outputs": [
    {
     "data": {
      "text/plain": [
       "0    181386\n",
       "2     67539\n",
       "1     17532\n",
       "Name: LTVRange, dtype: int64"
      ]
     },
     "execution_count": 38,
     "metadata": {},
     "output_type": "execute_result"
    }
   ],
   "source": [
    "# 0-High, 1-Low, 2-Medium\n",
    "\n",
    "from sklearn import preprocessing\n",
    "label_encoder = preprocessing.LabelEncoder()\n",
    "  \n",
    "df['LTVRange']= label_encoder.fit_transform(df['LTVRange'])\n",
    "  \n",
    "df['LTVRange'].value_counts()"
   ]
  },
  {
   "cell_type": "markdown",
   "id": "f26c44de",
   "metadata": {},
   "source": [
    "## DTI > DTI_Range"
   ]
  },
  {
   "cell_type": "code",
   "execution_count": 39,
   "id": "dc016f70",
   "metadata": {},
   "outputs": [
    {
     "data": {
      "text/plain": [
       "array([ 0. ,  1. ,  2. ,  3. ,  4. ,  5. ,  6. ,  7. ,  8. ,  9. , 10. ,\n",
       "       11. , 12. , 13. , 14. , 15. , 16. , 17. , 18. , 19. , 20. , 21. ,\n",
       "       22. , 23. , 24. , 25. , 26. , 27. , 28. , 29. , 30. , 31. , 32. ,\n",
       "       33. , 34. , 35. , 36. , 37. , 38. , 39. , 40. , 41. , 42. , 43. ,\n",
       "       44. , 45. , 46. , 47. , 48. , 49. , 50. , 51. , 52. , 53. , 54. ,\n",
       "       55. , 56. , 57. , 58. , 59. , 60. , 61. , 62. , 63. , 64. , 64.5])"
      ]
     },
     "execution_count": 39,
     "metadata": {},
     "output_type": "execute_result"
    }
   ],
   "source": [
    "np.sort(df.DTI.unique())"
   ]
  },
  {
   "cell_type": "code",
   "execution_count": 40,
   "id": "97dec18f",
   "metadata": {},
   "outputs": [],
   "source": [
    "conditions = [(df['DTI']< 25),\n",
    "             (df['DTI']>=25) & (df['DTI']<50),\n",
    "             (df['DTI']>=50) & (df['DTI']<66)]\n",
    "\n",
    "values = ['Low','Medium','High']\n",
    "\n",
    "df['DTI_Range'] = np.select(conditions,values)"
   ]
  },
  {
   "cell_type": "code",
   "execution_count": 41,
   "id": "3595fd32",
   "metadata": {},
   "outputs": [
    {
     "data": {
      "text/plain": [
       "Medium    169750\n",
       "Low        80382\n",
       "High       16325\n",
       "Name: DTI_Range, dtype: int64"
      ]
     },
     "execution_count": 41,
     "metadata": {},
     "output_type": "execute_result"
    }
   ],
   "source": [
    "df['DTI_Range'].value_counts()"
   ]
  },
  {
   "cell_type": "code",
   "execution_count": 42,
   "id": "8ab24755",
   "metadata": {},
   "outputs": [
    {
     "data": {
      "text/plain": [
       "2    169750\n",
       "1     80382\n",
       "0     16325\n",
       "Name: DTI_Range, dtype: int64"
      ]
     },
     "execution_count": 42,
     "metadata": {},
     "output_type": "execute_result"
    }
   ],
   "source": [
    "# 0-High, 1-Low, 2-Medium\n",
    "\n",
    "from sklearn import preprocessing\n",
    "label_encoder = preprocessing.LabelEncoder()\n",
    "  \n",
    "df['DTI_Range']= label_encoder.fit_transform(df['DTI_Range'])\n",
    "  \n",
    "df['DTI_Range'].value_counts()"
   ]
  },
  {
   "cell_type": "markdown",
   "id": "ff21d74d",
   "metadata": {},
   "source": [
    "## MIP > MIP_Range"
   ]
  },
  {
   "cell_type": "code",
   "execution_count": 43,
   "id": "de2e366b",
   "metadata": {},
   "outputs": [
    {
     "data": {
      "text/plain": [
       "array([ 0,  1,  6,  7,  9, 10, 11, 12, 13, 14, 15, 16, 17, 18, 19, 20, 21,\n",
       "       22, 23, 24, 25, 26, 27, 28, 29, 30, 32, 33, 35, 36, 37, 45, 47, 50,\n",
       "       52, 55], dtype=int64)"
      ]
     },
     "execution_count": 43,
     "metadata": {},
     "output_type": "execute_result"
    }
   ],
   "source": [
    "np.sort(df.MIP.unique())"
   ]
  },
  {
   "cell_type": "code",
   "execution_count": 44,
   "id": "6116aa1f",
   "metadata": {},
   "outputs": [],
   "source": [
    "conditions = [(df['MIP']< 20),\n",
    "             (df['MIP']>=20) & (df['MIP']<40),\n",
    "             (df['MIP']>=40) & (df['MIP']<56)]\n",
    "\n",
    "values = ['Low','Medium','High']\n",
    "\n",
    "df['MIP_Range'] = np.select(conditions,values)"
   ]
  },
  {
   "cell_type": "code",
   "execution_count": 45,
   "id": "51ba9372",
   "metadata": {},
   "outputs": [
    {
     "data": {
      "text/plain": [
       "Low       186962\n",
       "Medium     79479\n",
       "High          16\n",
       "Name: MIP_Range, dtype: int64"
      ]
     },
     "execution_count": 45,
     "metadata": {},
     "output_type": "execute_result"
    }
   ],
   "source": [
    "df['MIP_Range'].value_counts()"
   ]
  },
  {
   "cell_type": "code",
   "execution_count": 46,
   "id": "c3678dbe",
   "metadata": {},
   "outputs": [
    {
     "data": {
      "text/plain": [
       "1    186962\n",
       "2     79479\n",
       "0        16\n",
       "Name: MIP_Range, dtype: int64"
      ]
     },
     "execution_count": 46,
     "metadata": {},
     "output_type": "execute_result"
    }
   ],
   "source": [
    "# 0-High, 1-Low, 2-Medium\n",
    "\n",
    "from sklearn import preprocessing\n",
    "label_encoder = preprocessing.LabelEncoder()\n",
    "  \n",
    "df['MIP_Range']= label_encoder.fit_transform(df['MIP_Range'])\n",
    "  \n",
    "df['MIP_Range'].value_counts()"
   ]
  },
  {
   "cell_type": "markdown",
   "id": "4a7abb91",
   "metadata": {},
   "source": [
    "## MonthsInRepayment > Years_Repayment"
   ]
  },
  {
   "cell_type": "code",
   "execution_count": 47,
   "id": "23aa3c5a",
   "metadata": {},
   "outputs": [
    {
     "data": {
      "text/plain": [
       "array([  1.,   2.,   3.,   4.,   5.,   6.,   7.,   8.,   9.,  10.,  11.,\n",
       "        12.,  13.,  14.,  15.,  16.,  17.,  18.,  19.,  20.,  21.,  22.,\n",
       "        23.,  24.,  25.,  26.,  27.,  28.,  29.,  30.,  31.,  32.,  33.,\n",
       "        34.,  35.,  36.,  37.,  38.,  39.,  40.,  41.,  42.,  43.,  44.,\n",
       "        45.,  46.,  47.,  48.,  49.,  50.,  51.,  52.,  53.,  54.,  55.,\n",
       "        56.,  57.,  58.,  59.,  60.,  61.,  62.,  63.,  64.,  65.,  66.,\n",
       "        67.,  68.,  69.,  70.,  71.,  72.,  73.,  74.,  75.,  76.,  77.,\n",
       "        78.,  79.,  80.,  81.,  82.,  83.,  84.,  85.,  86.,  87.,  88.,\n",
       "        89.,  90.,  91.,  92.,  93.,  94.,  95.,  96.,  97.,  98.,  99.,\n",
       "       100., 101., 102., 103., 104., 105.])"
      ]
     },
     "execution_count": 47,
     "metadata": {},
     "output_type": "execute_result"
    }
   ],
   "source": [
    "np.sort(df.MonthsInRepayment.unique())"
   ]
  },
  {
   "cell_type": "code",
   "execution_count": 48,
   "id": "99e905eb",
   "metadata": {},
   "outputs": [],
   "source": [
    "import math\n",
    "df['Years_Repayment'] = df['MonthsInRepayment'].apply(lambda x:math.trunc(x/12))"
   ]
  },
  {
   "cell_type": "code",
   "execution_count": 49,
   "id": "c2d1e5a8",
   "metadata": {},
   "outputs": [
    {
     "data": {
      "text/plain": [
       "4    62379\n",
       "3    59353\n",
       "2    40923\n",
       "8    40160\n",
       "5    19592\n",
       "1    19099\n",
       "6     9921\n",
       "0     9689\n",
       "7     5341\n",
       "Name: Years_Repayment, dtype: int64"
      ]
     },
     "execution_count": 49,
     "metadata": {},
     "output_type": "execute_result"
    }
   ],
   "source": [
    "df['Years_Repayment'].value_counts()"
   ]
  },
  {
   "cell_type": "markdown",
   "id": "fffdafb7",
   "metadata": {},
   "source": [
    "## Years_Repayment > RepayRange"
   ]
  },
  {
   "cell_type": "code",
   "execution_count": 50,
   "id": "10d2961d",
   "metadata": {},
   "outputs": [
    {
     "data": {
      "text/plain": [
       "array([0, 1, 2, 3, 4, 5, 6, 7, 8], dtype=int64)"
      ]
     },
     "execution_count": 50,
     "metadata": {},
     "output_type": "execute_result"
    }
   ],
   "source": [
    "np.sort(df.Years_Repayment.unique())"
   ]
  },
  {
   "cell_type": "code",
   "execution_count": 51,
   "id": "0a0fe811",
   "metadata": {},
   "outputs": [],
   "source": [
    "conditions = [(df['Years_Repayment']< 2),\n",
    "             (df['Years_Repayment']>=2) & (df['Years_Repayment']<4),\n",
    "             (df['Years_Repayment']>=4) & (df['Years_Repayment']<6),\n",
    "             (df['Years_Repayment']>=6) & (df['Years_Repayment']<8),\n",
    "             (df['Years_Repayment']>=8) & (df['Years_Repayment']<10),]\n",
    "\n",
    "values = ['0-2','2-4','4-6','6-8','8-10']\n",
    "\n",
    "df['RepayRange'] = np.select(conditions,values)"
   ]
  },
  {
   "cell_type": "code",
   "execution_count": 52,
   "id": "9595055a",
   "metadata": {},
   "outputs": [
    {
     "data": {
      "text/plain": [
       "2-4     100276\n",
       "4-6      81971\n",
       "8-10     40160\n",
       "0-2      28788\n",
       "6-8      15262\n",
       "Name: RepayRange, dtype: int64"
      ]
     },
     "execution_count": 52,
     "metadata": {},
     "output_type": "execute_result"
    }
   ],
   "source": [
    "df['RepayRange'].value_counts()"
   ]
  },
  {
   "cell_type": "code",
   "execution_count": 53,
   "id": "786cb5e4",
   "metadata": {},
   "outputs": [
    {
     "data": {
      "text/plain": [
       "1    100276\n",
       "2     81971\n",
       "4     40160\n",
       "0     28788\n",
       "3     15262\n",
       "Name: RepayRange, dtype: int64"
      ]
     },
     "execution_count": 53,
     "metadata": {},
     "output_type": "execute_result"
    }
   ],
   "source": [
    "# 0-[0-2], 1-[2-4], 2-[4-6], 3-[6-8], 4-[8-10]\n",
    "\n",
    "from sklearn import preprocessing\n",
    "label_encoder = preprocessing.LabelEncoder()\n",
    "  \n",
    "df['RepayRange']= label_encoder.fit_transform(df['RepayRange'])\n",
    "  \n",
    "df['RepayRange'].value_counts()"
   ]
  },
  {
   "cell_type": "markdown",
   "id": "d4a4e816",
   "metadata": {},
   "source": [
    "## OrigLoanTerm > LoanTermYears"
   ]
  },
  {
   "cell_type": "code",
   "execution_count": 54,
   "id": "b1dea93b",
   "metadata": {},
   "outputs": [
    {
     "data": {
      "text/plain": [
       "array([301, 302, 303, 304, 305, 306, 307, 308, 309, 310, 311, 312, 313,\n",
       "       314, 315, 316, 317, 318, 319, 320, 321, 322, 323, 324, 325, 326,\n",
       "       327, 328, 329, 330, 331, 332, 333, 334, 335, 336, 337, 338, 339,\n",
       "       340, 341, 342, 343, 344, 345, 346, 347, 348, 349, 350, 351, 352,\n",
       "       353, 354, 355, 356, 357, 358, 359, 360, 361], dtype=int64)"
      ]
     },
     "execution_count": 54,
     "metadata": {},
     "output_type": "execute_result"
    }
   ],
   "source": [
    "np.sort(df.OrigLoanTerm.unique())"
   ]
  },
  {
   "cell_type": "code",
   "execution_count": 55,
   "id": "8f5a2f75",
   "metadata": {},
   "outputs": [],
   "source": [
    "import math\n",
    "df['LoanTermYears'] = df['OrigLoanTerm'].apply(lambda x:math.trunc(x/12))"
   ]
  },
  {
   "cell_type": "code",
   "execution_count": 56,
   "id": "7cd1f0c9",
   "metadata": {},
   "outputs": [
    {
     "data": {
      "text/plain": [
       "30    264183\n",
       "29      1023\n",
       "28       474\n",
       "27       415\n",
       "26       225\n",
       "25       137\n",
       "Name: LoanTermYears, dtype: int64"
      ]
     },
     "execution_count": 56,
     "metadata": {},
     "output_type": "execute_result"
    }
   ],
   "source": [
    "df['LoanTermYears'].value_counts()"
   ]
  },
  {
   "cell_type": "markdown",
   "id": "092969ee",
   "metadata": {},
   "source": [
    "## FirstTimeHomebuyer"
   ]
  },
  {
   "cell_type": "code",
   "execution_count": 57,
   "id": "13d05a6e",
   "metadata": {},
   "outputs": [
    {
     "data": {
      "text/plain": [
       "array(['N', 'X', 'Y'], dtype=object)"
      ]
     },
     "execution_count": 57,
     "metadata": {},
     "output_type": "execute_result"
    }
   ],
   "source": [
    "np.sort(df.FirstTimeHomebuyer.unique())"
   ]
  },
  {
   "cell_type": "code",
   "execution_count": 58,
   "id": "a642db83",
   "metadata": {},
   "outputs": [],
   "source": [
    "df['FirstTimeHomebuyer'].replace({'X':np.nan},inplace=True)\n",
    "df = df.dropna(subset=['FirstTimeHomebuyer'])"
   ]
  },
  {
   "cell_type": "code",
   "execution_count": 59,
   "id": "8bfb3b80",
   "metadata": {},
   "outputs": [
    {
     "data": {
      "text/plain": [
       "array(['N', 'Y'], dtype=object)"
      ]
     },
     "execution_count": 59,
     "metadata": {},
     "output_type": "execute_result"
    }
   ],
   "source": [
    "np.sort(df.FirstTimeHomebuyer.unique())"
   ]
  },
  {
   "cell_type": "code",
   "execution_count": 60,
   "id": "243df21d",
   "metadata": {},
   "outputs": [],
   "source": [
    "df['IsFirstTime'] = np.where(df['FirstTimeHomebuyer'] == 'Y', 1, 0)"
   ]
  },
  {
   "cell_type": "code",
   "execution_count": 61,
   "id": "d0784219",
   "metadata": {},
   "outputs": [
    {
     "data": {
      "text/plain": [
       "array([0, 1])"
      ]
     },
     "execution_count": 61,
     "metadata": {},
     "output_type": "execute_result"
    }
   ],
   "source": [
    "np.sort(df.IsFirstTime.unique())"
   ]
  },
  {
   "cell_type": "markdown",
   "id": "b93fbb61",
   "metadata": {},
   "source": [
    "## PPM"
   ]
  },
  {
   "cell_type": "code",
   "execution_count": 62,
   "id": "e146cb01",
   "metadata": {},
   "outputs": [
    {
     "data": {
      "text/plain": [
       "array(['N', 'X', 'Y'], dtype=object)"
      ]
     },
     "execution_count": 62,
     "metadata": {},
     "output_type": "execute_result"
    }
   ],
   "source": [
    "np.sort(df.PPM.unique())"
   ]
  },
  {
   "cell_type": "code",
   "execution_count": 63,
   "id": "87991a6e",
   "metadata": {},
   "outputs": [],
   "source": [
    "df['PPM'].replace({'X':np.nan},inplace=True)\n",
    "df = df.dropna(subset=['PPM'])"
   ]
  },
  {
   "cell_type": "code",
   "execution_count": 64,
   "id": "24cc5972",
   "metadata": {},
   "outputs": [
    {
     "data": {
      "text/plain": [
       "array(['N', 'Y'], dtype=object)"
      ]
     },
     "execution_count": 64,
     "metadata": {},
     "output_type": "execute_result"
    }
   ],
   "source": [
    "np.sort(df.PPM.unique())"
   ]
  },
  {
   "cell_type": "code",
   "execution_count": 65,
   "id": "15479267",
   "metadata": {},
   "outputs": [],
   "source": [
    "df['PPM'] = np.where(df['PPM'] == 'Y', 1, 0)"
   ]
  },
  {
   "cell_type": "code",
   "execution_count": 66,
   "id": "ca83b7de",
   "metadata": {},
   "outputs": [
    {
     "data": {
      "text/plain": [
       "array([0, 1])"
      ]
     },
     "execution_count": 66,
     "metadata": {},
     "output_type": "execute_result"
    }
   ],
   "source": [
    "np.sort(df.PPM.unique())"
   ]
  },
  {
   "cell_type": "code",
   "execution_count": 67,
   "id": "42a93c2b",
   "metadata": {},
   "outputs": [
    {
     "data": {
      "text/html": [
       "<div>\n",
       "<style scoped>\n",
       "    .dataframe tbody tr th:only-of-type {\n",
       "        vertical-align: middle;\n",
       "    }\n",
       "\n",
       "    .dataframe tbody tr th {\n",
       "        vertical-align: top;\n",
       "    }\n",
       "\n",
       "    .dataframe thead th {\n",
       "        text-align: right;\n",
       "    }\n",
       "</style>\n",
       "<table border=\"1\" class=\"dataframe\">\n",
       "  <thead>\n",
       "    <tr style=\"text-align: right;\">\n",
       "      <th></th>\n",
       "      <th>CreditScore</th>\n",
       "      <th>FirstTimeHomebuyer</th>\n",
       "      <th>MIP</th>\n",
       "      <th>Units</th>\n",
       "      <th>OCLTV</th>\n",
       "      <th>DTI</th>\n",
       "      <th>OrigUPB</th>\n",
       "      <th>LTV</th>\n",
       "      <th>OrigInterestRate</th>\n",
       "      <th>PPM</th>\n",
       "      <th>...</th>\n",
       "      <th>MonthsDelinquent</th>\n",
       "      <th>MonthsInRepayment</th>\n",
       "      <th>CreditRange</th>\n",
       "      <th>LTVRange</th>\n",
       "      <th>DTI_Range</th>\n",
       "      <th>MIP_Range</th>\n",
       "      <th>Years_Repayment</th>\n",
       "      <th>RepayRange</th>\n",
       "      <th>LoanTermYears</th>\n",
       "      <th>IsFirstTime</th>\n",
       "    </tr>\n",
       "  </thead>\n",
       "  <tbody>\n",
       "    <tr>\n",
       "      <th>0</th>\n",
       "      <td>850.0</td>\n",
       "      <td>N</td>\n",
       "      <td>25</td>\n",
       "      <td>1</td>\n",
       "      <td>89.0</td>\n",
       "      <td>27.0</td>\n",
       "      <td>117000.0</td>\n",
       "      <td>89.0</td>\n",
       "      <td>6.750</td>\n",
       "      <td>0</td>\n",
       "      <td>...</td>\n",
       "      <td>0</td>\n",
       "      <td>52.0</td>\n",
       "      <td>0</td>\n",
       "      <td>0</td>\n",
       "      <td>2</td>\n",
       "      <td>2</td>\n",
       "      <td>4</td>\n",
       "      <td>2</td>\n",
       "      <td>30</td>\n",
       "      <td>0</td>\n",
       "    </tr>\n",
       "    <tr>\n",
       "      <th>1</th>\n",
       "      <td>850.0</td>\n",
       "      <td>N</td>\n",
       "      <td>0</td>\n",
       "      <td>1</td>\n",
       "      <td>73.0</td>\n",
       "      <td>17.0</td>\n",
       "      <td>109000.0</td>\n",
       "      <td>73.0</td>\n",
       "      <td>6.500</td>\n",
       "      <td>0</td>\n",
       "      <td>...</td>\n",
       "      <td>0</td>\n",
       "      <td>105.0</td>\n",
       "      <td>0</td>\n",
       "      <td>2</td>\n",
       "      <td>1</td>\n",
       "      <td>1</td>\n",
       "      <td>8</td>\n",
       "      <td>4</td>\n",
       "      <td>30</td>\n",
       "      <td>0</td>\n",
       "    </tr>\n",
       "    <tr>\n",
       "      <th>2</th>\n",
       "      <td>850.0</td>\n",
       "      <td>N</td>\n",
       "      <td>0</td>\n",
       "      <td>1</td>\n",
       "      <td>75.0</td>\n",
       "      <td>16.0</td>\n",
       "      <td>88000.0</td>\n",
       "      <td>75.0</td>\n",
       "      <td>6.875</td>\n",
       "      <td>0</td>\n",
       "      <td>...</td>\n",
       "      <td>0</td>\n",
       "      <td>67.0</td>\n",
       "      <td>0</td>\n",
       "      <td>0</td>\n",
       "      <td>1</td>\n",
       "      <td>1</td>\n",
       "      <td>5</td>\n",
       "      <td>2</td>\n",
       "      <td>30</td>\n",
       "      <td>0</td>\n",
       "    </tr>\n",
       "    <tr>\n",
       "      <th>3</th>\n",
       "      <td>850.0</td>\n",
       "      <td>N</td>\n",
       "      <td>0</td>\n",
       "      <td>1</td>\n",
       "      <td>76.0</td>\n",
       "      <td>14.0</td>\n",
       "      <td>160000.0</td>\n",
       "      <td>76.0</td>\n",
       "      <td>6.875</td>\n",
       "      <td>0</td>\n",
       "      <td>...</td>\n",
       "      <td>0</td>\n",
       "      <td>35.0</td>\n",
       "      <td>0</td>\n",
       "      <td>0</td>\n",
       "      <td>1</td>\n",
       "      <td>1</td>\n",
       "      <td>2</td>\n",
       "      <td>1</td>\n",
       "      <td>30</td>\n",
       "      <td>0</td>\n",
       "    </tr>\n",
       "    <tr>\n",
       "      <th>4</th>\n",
       "      <td>850.0</td>\n",
       "      <td>N</td>\n",
       "      <td>0</td>\n",
       "      <td>1</td>\n",
       "      <td>78.0</td>\n",
       "      <td>18.0</td>\n",
       "      <td>109000.0</td>\n",
       "      <td>78.0</td>\n",
       "      <td>7.125</td>\n",
       "      <td>0</td>\n",
       "      <td>...</td>\n",
       "      <td>0</td>\n",
       "      <td>54.0</td>\n",
       "      <td>0</td>\n",
       "      <td>0</td>\n",
       "      <td>1</td>\n",
       "      <td>1</td>\n",
       "      <td>4</td>\n",
       "      <td>2</td>\n",
       "      <td>30</td>\n",
       "      <td>0</td>\n",
       "    </tr>\n",
       "    <tr>\n",
       "      <th>5</th>\n",
       "      <td>850.0</td>\n",
       "      <td>N</td>\n",
       "      <td>25</td>\n",
       "      <td>1</td>\n",
       "      <td>89.0</td>\n",
       "      <td>40.0</td>\n",
       "      <td>207000.0</td>\n",
       "      <td>89.0</td>\n",
       "      <td>7.125</td>\n",
       "      <td>0</td>\n",
       "      <td>...</td>\n",
       "      <td>0</td>\n",
       "      <td>42.0</td>\n",
       "      <td>0</td>\n",
       "      <td>0</td>\n",
       "      <td>2</td>\n",
       "      <td>2</td>\n",
       "      <td>3</td>\n",
       "      <td>1</td>\n",
       "      <td>30</td>\n",
       "      <td>0</td>\n",
       "    </tr>\n",
       "    <tr>\n",
       "      <th>6</th>\n",
       "      <td>850.0</td>\n",
       "      <td>N</td>\n",
       "      <td>25</td>\n",
       "      <td>1</td>\n",
       "      <td>90.0</td>\n",
       "      <td>21.0</td>\n",
       "      <td>111000.0</td>\n",
       "      <td>90.0</td>\n",
       "      <td>6.875</td>\n",
       "      <td>0</td>\n",
       "      <td>...</td>\n",
       "      <td>0</td>\n",
       "      <td>44.0</td>\n",
       "      <td>0</td>\n",
       "      <td>0</td>\n",
       "      <td>1</td>\n",
       "      <td>2</td>\n",
       "      <td>3</td>\n",
       "      <td>1</td>\n",
       "      <td>30</td>\n",
       "      <td>0</td>\n",
       "    </tr>\n",
       "    <tr>\n",
       "      <th>9</th>\n",
       "      <td>850.0</td>\n",
       "      <td>Y</td>\n",
       "      <td>30</td>\n",
       "      <td>1</td>\n",
       "      <td>95.0</td>\n",
       "      <td>27.0</td>\n",
       "      <td>35000.0</td>\n",
       "      <td>95.0</td>\n",
       "      <td>7.125</td>\n",
       "      <td>0</td>\n",
       "      <td>...</td>\n",
       "      <td>104</td>\n",
       "      <td>105.0</td>\n",
       "      <td>0</td>\n",
       "      <td>0</td>\n",
       "      <td>2</td>\n",
       "      <td>2</td>\n",
       "      <td>8</td>\n",
       "      <td>4</td>\n",
       "      <td>30</td>\n",
       "      <td>1</td>\n",
       "    </tr>\n",
       "    <tr>\n",
       "      <th>10</th>\n",
       "      <td>850.0</td>\n",
       "      <td>N</td>\n",
       "      <td>0</td>\n",
       "      <td>1</td>\n",
       "      <td>80.0</td>\n",
       "      <td>19.0</td>\n",
       "      <td>126000.0</td>\n",
       "      <td>80.0</td>\n",
       "      <td>6.500</td>\n",
       "      <td>0</td>\n",
       "      <td>...</td>\n",
       "      <td>0</td>\n",
       "      <td>37.0</td>\n",
       "      <td>0</td>\n",
       "      <td>0</td>\n",
       "      <td>1</td>\n",
       "      <td>1</td>\n",
       "      <td>3</td>\n",
       "      <td>1</td>\n",
       "      <td>30</td>\n",
       "      <td>0</td>\n",
       "    </tr>\n",
       "    <tr>\n",
       "      <th>11</th>\n",
       "      <td>850.0</td>\n",
       "      <td>N</td>\n",
       "      <td>12</td>\n",
       "      <td>1</td>\n",
       "      <td>77.0</td>\n",
       "      <td>18.0</td>\n",
       "      <td>200000.0</td>\n",
       "      <td>77.0</td>\n",
       "      <td>6.750</td>\n",
       "      <td>0</td>\n",
       "      <td>...</td>\n",
       "      <td>0</td>\n",
       "      <td>47.0</td>\n",
       "      <td>0</td>\n",
       "      <td>0</td>\n",
       "      <td>1</td>\n",
       "      <td>1</td>\n",
       "      <td>3</td>\n",
       "      <td>1</td>\n",
       "      <td>30</td>\n",
       "      <td>0</td>\n",
       "    </tr>\n",
       "  </tbody>\n",
       "</table>\n",
       "<p>10 rows × 26 columns</p>\n",
       "</div>"
      ],
      "text/plain": [
       "    CreditScore FirstTimeHomebuyer  MIP  Units  OCLTV   DTI   OrigUPB   LTV  \\\n",
       "0         850.0                  N   25      1   89.0  27.0  117000.0  89.0   \n",
       "1         850.0                  N    0      1   73.0  17.0  109000.0  73.0   \n",
       "2         850.0                  N    0      1   75.0  16.0   88000.0  75.0   \n",
       "3         850.0                  N    0      1   76.0  14.0  160000.0  76.0   \n",
       "4         850.0                  N    0      1   78.0  18.0  109000.0  78.0   \n",
       "5         850.0                  N   25      1   89.0  40.0  207000.0  89.0   \n",
       "6         850.0                  N   25      1   90.0  21.0  111000.0  90.0   \n",
       "9         850.0                  Y   30      1   95.0  27.0   35000.0  95.0   \n",
       "10        850.0                  N    0      1   80.0  19.0  126000.0  80.0   \n",
       "11        850.0                  N   12      1   77.0  18.0  200000.0  77.0   \n",
       "\n",
       "    OrigInterestRate  PPM  ... MonthsDelinquent MonthsInRepayment CreditRange  \\\n",
       "0              6.750    0  ...                0              52.0           0   \n",
       "1              6.500    0  ...                0             105.0           0   \n",
       "2              6.875    0  ...                0              67.0           0   \n",
       "3              6.875    0  ...                0              35.0           0   \n",
       "4              7.125    0  ...                0              54.0           0   \n",
       "5              7.125    0  ...                0              42.0           0   \n",
       "6              6.875    0  ...                0              44.0           0   \n",
       "9              7.125    0  ...              104             105.0           0   \n",
       "10             6.500    0  ...                0              37.0           0   \n",
       "11             6.750    0  ...                0              47.0           0   \n",
       "\n",
       "   LTVRange  DTI_Range  MIP_Range  Years_Repayment  RepayRange  LoanTermYears  \\\n",
       "0         0          2          2                4           2             30   \n",
       "1         2          1          1                8           4             30   \n",
       "2         0          1          1                5           2             30   \n",
       "3         0          1          1                2           1             30   \n",
       "4         0          1          1                4           2             30   \n",
       "5         0          2          2                3           1             30   \n",
       "6         0          1          2                3           1             30   \n",
       "9         0          2          2                8           4             30   \n",
       "10        0          1          1                3           1             30   \n",
       "11        0          1          1                3           1             30   \n",
       "\n",
       "    IsFirstTime  \n",
       "0             0  \n",
       "1             0  \n",
       "2             0  \n",
       "3             0  \n",
       "4             0  \n",
       "5             0  \n",
       "6             0  \n",
       "9             1  \n",
       "10            0  \n",
       "11            0  \n",
       "\n",
       "[10 rows x 26 columns]"
      ]
     },
     "execution_count": 67,
     "metadata": {},
     "output_type": "execute_result"
    }
   ],
   "source": [
    "df.head(10)"
   ]
  },
  {
   "cell_type": "code",
   "execution_count": 68,
   "id": "50f52c3a",
   "metadata": {},
   "outputs": [
    {
     "data": {
      "text/plain": [
       "Index(['CreditScore', 'FirstTimeHomebuyer', 'MIP', 'Units', 'OCLTV', 'DTI',\n",
       "       'OrigUPB', 'LTV', 'OrigInterestRate', 'PPM', 'PropertyType',\n",
       "       'PostalCode', 'LoanSeqNum', 'LoanPurpose', 'OrigLoanTerm',\n",
       "       'EverDelinquent', 'MonthsDelinquent', 'MonthsInRepayment',\n",
       "       'CreditRange', 'LTVRange', 'DTI_Range', 'MIP_Range', 'Years_Repayment',\n",
       "       'RepayRange', 'LoanTermYears', 'IsFirstTime'],\n",
       "      dtype='object')"
      ]
     },
     "execution_count": 68,
     "metadata": {},
     "output_type": "execute_result"
    }
   ],
   "source": [
    "df.columns"
   ]
  },
  {
   "cell_type": "code",
   "execution_count": 69,
   "id": "6ee86163",
   "metadata": {},
   "outputs": [],
   "source": [
    "new_df = df[['CreditRange','LTVRange','DTI_Range','MIP_Range','RepayRange',\n",
    "            'Units','OrigUPB','OrigInterestRate','LoanTermYears','OCLTV',\n",
    "            'PPM','IsFirstTime','EverDelinquent','MonthsDelinquent']]"
   ]
  },
  {
   "cell_type": "code",
   "execution_count": 70,
   "id": "9efd604f",
   "metadata": {},
   "outputs": [
    {
     "data": {
      "text/html": [
       "<div>\n",
       "<style scoped>\n",
       "    .dataframe tbody tr th:only-of-type {\n",
       "        vertical-align: middle;\n",
       "    }\n",
       "\n",
       "    .dataframe tbody tr th {\n",
       "        vertical-align: top;\n",
       "    }\n",
       "\n",
       "    .dataframe thead th {\n",
       "        text-align: right;\n",
       "    }\n",
       "</style>\n",
       "<table border=\"1\" class=\"dataframe\">\n",
       "  <thead>\n",
       "    <tr style=\"text-align: right;\">\n",
       "      <th></th>\n",
       "      <th>CreditRange</th>\n",
       "      <th>LTVRange</th>\n",
       "      <th>DTI_Range</th>\n",
       "      <th>MIP_Range</th>\n",
       "      <th>RepayRange</th>\n",
       "      <th>Units</th>\n",
       "      <th>OrigUPB</th>\n",
       "      <th>OrigInterestRate</th>\n",
       "      <th>LoanTermYears</th>\n",
       "      <th>OCLTV</th>\n",
       "      <th>PPM</th>\n",
       "      <th>IsFirstTime</th>\n",
       "      <th>EverDelinquent</th>\n",
       "      <th>MonthsDelinquent</th>\n",
       "    </tr>\n",
       "  </thead>\n",
       "  <tbody>\n",
       "    <tr>\n",
       "      <th>0</th>\n",
       "      <td>0</td>\n",
       "      <td>0</td>\n",
       "      <td>2</td>\n",
       "      <td>2</td>\n",
       "      <td>2</td>\n",
       "      <td>1</td>\n",
       "      <td>117000.0</td>\n",
       "      <td>6.750</td>\n",
       "      <td>30</td>\n",
       "      <td>89.0</td>\n",
       "      <td>0</td>\n",
       "      <td>0</td>\n",
       "      <td>0</td>\n",
       "      <td>0</td>\n",
       "    </tr>\n",
       "    <tr>\n",
       "      <th>1</th>\n",
       "      <td>0</td>\n",
       "      <td>2</td>\n",
       "      <td>1</td>\n",
       "      <td>1</td>\n",
       "      <td>4</td>\n",
       "      <td>1</td>\n",
       "      <td>109000.0</td>\n",
       "      <td>6.500</td>\n",
       "      <td>30</td>\n",
       "      <td>73.0</td>\n",
       "      <td>0</td>\n",
       "      <td>0</td>\n",
       "      <td>0</td>\n",
       "      <td>0</td>\n",
       "    </tr>\n",
       "    <tr>\n",
       "      <th>2</th>\n",
       "      <td>0</td>\n",
       "      <td>0</td>\n",
       "      <td>1</td>\n",
       "      <td>1</td>\n",
       "      <td>2</td>\n",
       "      <td>1</td>\n",
       "      <td>88000.0</td>\n",
       "      <td>6.875</td>\n",
       "      <td>30</td>\n",
       "      <td>75.0</td>\n",
       "      <td>0</td>\n",
       "      <td>0</td>\n",
       "      <td>0</td>\n",
       "      <td>0</td>\n",
       "    </tr>\n",
       "    <tr>\n",
       "      <th>3</th>\n",
       "      <td>0</td>\n",
       "      <td>0</td>\n",
       "      <td>1</td>\n",
       "      <td>1</td>\n",
       "      <td>1</td>\n",
       "      <td>1</td>\n",
       "      <td>160000.0</td>\n",
       "      <td>6.875</td>\n",
       "      <td>30</td>\n",
       "      <td>76.0</td>\n",
       "      <td>0</td>\n",
       "      <td>0</td>\n",
       "      <td>0</td>\n",
       "      <td>0</td>\n",
       "    </tr>\n",
       "    <tr>\n",
       "      <th>4</th>\n",
       "      <td>0</td>\n",
       "      <td>0</td>\n",
       "      <td>1</td>\n",
       "      <td>1</td>\n",
       "      <td>2</td>\n",
       "      <td>1</td>\n",
       "      <td>109000.0</td>\n",
       "      <td>7.125</td>\n",
       "      <td>30</td>\n",
       "      <td>78.0</td>\n",
       "      <td>0</td>\n",
       "      <td>0</td>\n",
       "      <td>0</td>\n",
       "      <td>0</td>\n",
       "    </tr>\n",
       "    <tr>\n",
       "      <th>5</th>\n",
       "      <td>0</td>\n",
       "      <td>0</td>\n",
       "      <td>2</td>\n",
       "      <td>2</td>\n",
       "      <td>1</td>\n",
       "      <td>1</td>\n",
       "      <td>207000.0</td>\n",
       "      <td>7.125</td>\n",
       "      <td>30</td>\n",
       "      <td>89.0</td>\n",
       "      <td>0</td>\n",
       "      <td>0</td>\n",
       "      <td>0</td>\n",
       "      <td>0</td>\n",
       "    </tr>\n",
       "    <tr>\n",
       "      <th>6</th>\n",
       "      <td>0</td>\n",
       "      <td>0</td>\n",
       "      <td>1</td>\n",
       "      <td>2</td>\n",
       "      <td>1</td>\n",
       "      <td>1</td>\n",
       "      <td>111000.0</td>\n",
       "      <td>6.875</td>\n",
       "      <td>30</td>\n",
       "      <td>90.0</td>\n",
       "      <td>0</td>\n",
       "      <td>0</td>\n",
       "      <td>0</td>\n",
       "      <td>0</td>\n",
       "    </tr>\n",
       "    <tr>\n",
       "      <th>9</th>\n",
       "      <td>0</td>\n",
       "      <td>0</td>\n",
       "      <td>2</td>\n",
       "      <td>2</td>\n",
       "      <td>4</td>\n",
       "      <td>1</td>\n",
       "      <td>35000.0</td>\n",
       "      <td>7.125</td>\n",
       "      <td>30</td>\n",
       "      <td>95.0</td>\n",
       "      <td>0</td>\n",
       "      <td>1</td>\n",
       "      <td>1</td>\n",
       "      <td>104</td>\n",
       "    </tr>\n",
       "    <tr>\n",
       "      <th>10</th>\n",
       "      <td>0</td>\n",
       "      <td>0</td>\n",
       "      <td>1</td>\n",
       "      <td>1</td>\n",
       "      <td>1</td>\n",
       "      <td>1</td>\n",
       "      <td>126000.0</td>\n",
       "      <td>6.500</td>\n",
       "      <td>30</td>\n",
       "      <td>80.0</td>\n",
       "      <td>0</td>\n",
       "      <td>0</td>\n",
       "      <td>0</td>\n",
       "      <td>0</td>\n",
       "    </tr>\n",
       "    <tr>\n",
       "      <th>11</th>\n",
       "      <td>0</td>\n",
       "      <td>0</td>\n",
       "      <td>1</td>\n",
       "      <td>1</td>\n",
       "      <td>1</td>\n",
       "      <td>1</td>\n",
       "      <td>200000.0</td>\n",
       "      <td>6.750</td>\n",
       "      <td>30</td>\n",
       "      <td>77.0</td>\n",
       "      <td>0</td>\n",
       "      <td>0</td>\n",
       "      <td>0</td>\n",
       "      <td>0</td>\n",
       "    </tr>\n",
       "  </tbody>\n",
       "</table>\n",
       "</div>"
      ],
      "text/plain": [
       "    CreditRange  LTVRange  DTI_Range  MIP_Range  RepayRange  Units   OrigUPB  \\\n",
       "0             0         0          2          2           2      1  117000.0   \n",
       "1             0         2          1          1           4      1  109000.0   \n",
       "2             0         0          1          1           2      1   88000.0   \n",
       "3             0         0          1          1           1      1  160000.0   \n",
       "4             0         0          1          1           2      1  109000.0   \n",
       "5             0         0          2          2           1      1  207000.0   \n",
       "6             0         0          1          2           1      1  111000.0   \n",
       "9             0         0          2          2           4      1   35000.0   \n",
       "10            0         0          1          1           1      1  126000.0   \n",
       "11            0         0          1          1           1      1  200000.0   \n",
       "\n",
       "    OrigInterestRate  LoanTermYears  OCLTV  PPM  IsFirstTime  EverDelinquent  \\\n",
       "0              6.750             30   89.0    0            0               0   \n",
       "1              6.500             30   73.0    0            0               0   \n",
       "2              6.875             30   75.0    0            0               0   \n",
       "3              6.875             30   76.0    0            0               0   \n",
       "4              7.125             30   78.0    0            0               0   \n",
       "5              7.125             30   89.0    0            0               0   \n",
       "6              6.875             30   90.0    0            0               0   \n",
       "9              7.125             30   95.0    0            1               1   \n",
       "10             6.500             30   80.0    0            0               0   \n",
       "11             6.750             30   77.0    0            0               0   \n",
       "\n",
       "    MonthsDelinquent  \n",
       "0                  0  \n",
       "1                  0  \n",
       "2                  0  \n",
       "3                  0  \n",
       "4                  0  \n",
       "5                  0  \n",
       "6                  0  \n",
       "9                104  \n",
       "10                 0  \n",
       "11                 0  "
      ]
     },
     "execution_count": 70,
     "metadata": {},
     "output_type": "execute_result"
    }
   ],
   "source": [
    "new_df.head(10)"
   ]
  },
  {
   "cell_type": "code",
   "execution_count": 71,
   "id": "0d3bff8d",
   "metadata": {},
   "outputs": [],
   "source": [
    "new_df.to_csv(\"Modified.csv\")"
   ]
  }
 ],
 "metadata": {
  "kernelspec": {
   "display_name": "Python 3 (ipykernel)",
   "language": "python",
   "name": "python3"
  },
  "language_info": {
   "codemirror_mode": {
    "name": "ipython",
    "version": 3
   },
   "file_extension": ".py",
   "mimetype": "text/x-python",
   "name": "python",
   "nbconvert_exporter": "python",
   "pygments_lexer": "ipython3",
   "version": "3.7.11"
  }
 },
 "nbformat": 4,
 "nbformat_minor": 5
}
